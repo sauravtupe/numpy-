{
 "cells": [
  {
   "cell_type": "code",
   "execution_count": 1,
   "id": "8f56670d-b7f0-48e6-b7a1-43d35d5a3feb",
   "metadata": {},
   "outputs": [],
   "source": [
    "#1. Create a NumPy array 'arr' of integers from 0 to 5 and print its data type."
   ]
  },
  {
   "cell_type": "code",
   "execution_count": 3,
   "id": "bf3da76b-8fe5-41ce-8d67-2e734960e4a9",
   "metadata": {},
   "outputs": [
    {
     "name": "stdout",
     "output_type": "stream",
     "text": [
      "int64\n"
     ]
    }
   ],
   "source": [
    "import numpy as np\n",
    "\n",
    "arr = np.array([0,1,2,3,4,5])\n",
    "print(arr.dtype)"
   ]
  },
  {
   "cell_type": "code",
   "execution_count": 2,
   "id": "2c503ce6-c98a-442a-b6f4-7f15a70f825d",
   "metadata": {},
   "outputs": [],
   "source": [
    "#2. Given a NumPy array 'arr', check if its data type is float64."
   ]
  },
  {
   "cell_type": "code",
   "execution_count": 3,
   "id": "6ab60c8d-a1c3-4114-873f-0f5d7901a830",
   "metadata": {},
   "outputs": [
    {
     "name": "stdout",
     "output_type": "stream",
     "text": [
      "float64\n"
     ]
    }
   ],
   "source": [
    "arr = np.array([1.5, 2.6, 3.7])\n",
    "print(arr.dtype)"
   ]
  },
  {
   "cell_type": "code",
   "execution_count": null,
   "id": "2bd3df62-1c00-47bb-aa1e-18ee80efb924",
   "metadata": {},
   "outputs": [],
   "source": [
    "#3. Create a NumPy array 'arr' with a data type of complex128 containing three complex numbers."
   ]
  },
  {
   "cell_type": "code",
   "execution_count": 6,
   "id": "b8872757-9fc9-423d-aa23-a2833e4de871",
   "metadata": {},
   "outputs": [
    {
     "name": "stdout",
     "output_type": "stream",
     "text": [
      "[1.+2.j 3.-4.j 5.+6.j]\n"
     ]
    }
   ],
   "source": [
    "arr = np.array([1+2j, 3-4j, 5+6j], dtype=np.complex128)\n",
    "\n",
    "print(arr)\n"
   ]
  },
  {
   "cell_type": "code",
   "execution_count": 7,
   "id": "41f352e5-4d0c-4f06-8886-03638b1bd6ca",
   "metadata": {},
   "outputs": [],
   "source": [
    "#4. Convert an existing NumPy array 'arr' of integers to float32 data type."
   ]
  },
  {
   "cell_type": "code",
   "execution_count": 12,
   "id": "4e9f071e-d21a-4478-aad2-43480e345b2b",
   "metadata": {},
   "outputs": [
    {
     "name": "stdout",
     "output_type": "stream",
     "text": [
      "[10. 20. 30.]\n"
     ]
    }
   ],
   "source": [
    "a = [10 , 20 , 30]\n",
    "\n",
    "arr = np.array(a)\n",
    "print(arr.astype(float))"
   ]
  },
  {
   "cell_type": "code",
   "execution_count": 13,
   "id": "7c08e465-3139-4c77-8464-8bd29a1f5b88",
   "metadata": {},
   "outputs": [],
   "source": [
    "#5. Given a NumPy array 'arr' with float64 data type, convert it to float32 to reduce decimal precision."
   ]
  },
  {
   "cell_type": "code",
   "execution_count": 14,
   "id": "50cf1583-14f8-4f9d-9129-8a831bdfee93",
   "metadata": {},
   "outputs": [
    {
     "name": "stdout",
     "output_type": "stream",
     "text": [
      "float32\n"
     ]
    }
   ],
   "source": [
    "r = np.array([1.23456789, 2.3456789, 3.456789, 4.56789])\n",
    "\n",
    "arr_float32 = arr.astype(np.float32)\n",
    "print(arr_float32.dtype)"
   ]
  },
  {
   "cell_type": "code",
   "execution_count": null,
   "id": "16257276-a0c9-40f5-8f07-69252f669d5a",
   "metadata": {},
   "outputs": [],
   "source": [
    "#6. Write a function array_attributes that takes a NumPy array as input and returns its shape, size, and data type."
   ]
  },
  {
   "cell_type": "code",
   "execution_count": 17,
   "id": "8ba6b6bd-1a18-428d-baf2-f12daebbf568",
   "metadata": {},
   "outputs": [
    {
     "name": "stdout",
     "output_type": "stream",
     "text": [
      "Shape: (2, 5)\n",
      "Size: 10\n",
      "Data type: int64\n"
     ]
    }
   ],
   "source": [
    "def array_attributes(arr):\n",
    "    \n",
    "    shape = arr.shape\n",
    "    size = arr.size\n",
    "    dtype = arr.dtype\n",
    "    \n",
    "    return shape,size,dtype\n",
    "\n",
    "arr =  np.array([[1,2,3,4,5],[6,7,8,9,10]])\n",
    "\n",
    "attributes = array_attributes(arr)\n",
    "print(\"Shape:\", attributes[0])\n",
    "print(\"Size:\", attributes[1])\n",
    "print(\"Data type:\", attributes[2])"
   ]
  },
  {
   "cell_type": "code",
   "execution_count": 1,
   "id": "10fed509-a707-4490-bb64-a6def9256521",
   "metadata": {},
   "outputs": [],
   "source": [
    "#7. Create a function array_dimension that takes a NumPy array as input and returns its dimensionality."
   ]
  },
  {
   "cell_type": "code",
   "execution_count": 4,
   "id": "1391ccf3-3e7d-42de-938d-a488ed4c0ff0",
   "metadata": {},
   "outputs": [
    {
     "name": "stdout",
     "output_type": "stream",
     "text": [
      "2\n"
     ]
    }
   ],
   "source": [
    "def array_dimension(arr):\n",
    "    return arr.ndim\n",
    "\n",
    "ex_array = np.array([[10,20,30],[40,50,60]])\n",
    "print(array_dimension(ex_array))"
   ]
  },
  {
   "cell_type": "code",
   "execution_count": 5,
   "id": "048ce73a-d4bd-4bca-aa16-2594828791f8",
   "metadata": {},
   "outputs": [],
   "source": [
    "#8. Design a function item_size_info that takes a NumPy array as input and returns the item size and the total size in bytes."
   ]
  },
  {
   "cell_type": "code",
   "execution_count": 6,
   "id": "50eb34bc-139d-478b-893c-ff713bb35b88",
   "metadata": {},
   "outputs": [
    {
     "name": "stdout",
     "output_type": "stream",
     "text": [
      "Item size: 8 bytes\n",
      "Total size: 48 bytes\n"
     ]
    }
   ],
   "source": [
    "import numpy as np\n",
    "\n",
    "def item_size_info(arr):\n",
    "    item_size = arr.itemsize  # Size of each element in bytes\n",
    "    total_size = arr.nbytes   # Total size in bytes\n",
    "    return item_size, total_size\n",
    "\n",
    "# Example usage:\n",
    "# Create a NumPy array\n",
    "example_array = np.array([[1, 2, 3], [4, 5, 6]])\n",
    "item_size, total_size = item_size_info(example_array)\n",
    "print(f\"Item size: {item_size} bytes\")\n",
    "print(f\"Total size: {total_size} bytes\")"
   ]
  },
  {
   "cell_type": "code",
   "execution_count": 7,
   "id": "7ac28c38-4aba-4400-a6d4-007984c7e1a2",
   "metadata": {},
   "outputs": [],
   "source": [
    "#9. Create a function array_strides that takes a NumPy array as input and returns the strides of the array."
   ]
  },
  {
   "cell_type": "code",
   "execution_count": 8,
   "id": "4d0835cf-cd34-4c08-96ae-efb3bcb778bd",
   "metadata": {},
   "outputs": [
    {
     "name": "stdout",
     "output_type": "stream",
     "text": [
      "Strides: (24, 8)\n"
     ]
    }
   ],
   "source": [
    "import numpy as np\n",
    "\n",
    "def array_strides(arr):\n",
    "    return arr.strides\n",
    "\n",
    "# Example usage:\n",
    "# Create a NumPy array\n",
    "example_array = np.array([[1, 2, 3], [4, 5, 6]])\n",
    "strides = array_strides(example_array)\n",
    "print(f\"Strides: {strides}\")\n"
   ]
  },
  {
   "cell_type": "code",
   "execution_count": 9,
   "id": "6c708669-e573-41e2-a495-b76d42d5dce8",
   "metadata": {},
   "outputs": [],
   "source": [
    "#10. Design a function shape_stride_relationship that takes a NumPy array as input and returns the shape and strides of the array."
   ]
  },
  {
   "cell_type": "code",
   "execution_count": 10,
   "id": "79233e72-a986-4867-ad7a-b69768852286",
   "metadata": {},
   "outputs": [
    {
     "name": "stdout",
     "output_type": "stream",
     "text": [
      "Shape: (2, 3)\n",
      "Strides: (24, 8)\n"
     ]
    }
   ],
   "source": [
    "import numpy as np\n",
    "\n",
    "def shape_stride_relationship(arr):\n",
    "    shape = arr.shape   # Shape of the array\n",
    "    strides = arr.strides  # Strides of the array\n",
    "    return shape, strides\n",
    "\n",
    "# Example usage:\n",
    "# Create a NumPy array\n",
    "example_array = np.array([[1, 2, 3], [4, 5, 6]])\n",
    "shape, strides = shape_stride_relationship(example_array)\n",
    "print(f\"Shape: {shape}\")\n",
    "print(f\"Strides: {strides}\")\n"
   ]
  },
  {
   "cell_type": "code",
   "execution_count": 11,
   "id": "41a1805d-ad02-4632-916b-7b08101d49d8",
   "metadata": {},
   "outputs": [],
   "source": [
    "#11. Create a function 'create_zeros_array that takes an integer'n' as input and returns a NumPy array ofv zeros with 'n' elements."
   ]
  },
  {
   "cell_type": "code",
   "execution_count": 13,
   "id": "50b810fb-c080-4b30-99e0-54c0d1d717e6",
   "metadata": {},
   "outputs": [
    {
     "name": "stdout",
     "output_type": "stream",
     "text": [
      "[0. 0. 0. 0. 0.]\n"
     ]
    }
   ],
   "source": [
    "import numpy as np\n",
    "\n",
    "def create_zeros_array(n):\n",
    "    return np.zeros(n)\n",
    "\n",
    "# Example usage:\n",
    "# Create a NumPy array of zeros with 5 elements\n",
    "zeros_array = create_zeros_array(5)\n",
    "print(zeros_array)  # Output: [0. 0. 0. 0. 0.]\n"
   ]
  },
  {
   "cell_type": "code",
   "execution_count": 14,
   "id": "e4e2dd40-8bd3-41ae-b9eb-860050b48197",
   "metadata": {},
   "outputs": [],
   "source": [
    "#12. Write a function 'create_ones_matrix' that takes integers 'rows' and 'cols' as inputs and generates a 2 NumPy array filled with ones of size 'rows x cols'."
   ]
  },
  {
   "cell_type": "code",
   "execution_count": 1,
   "id": "cb02fdb3-9a93-4b92-a149-0db68ef34a9a",
   "metadata": {},
   "outputs": [
    {
     "name": "stdout",
     "output_type": "stream",
     "text": [
      "[[1. 1. 1. 1.]\n",
      " [1. 1. 1. 1.]\n",
      " [1. 1. 1. 1.]]\n"
     ]
    }
   ],
   "source": [
    "import numpy as np\n",
    "\n",
    "def create_ones_matrix(rows, cols):\n",
    "    return np.ones((rows, cols))\n",
    "\n",
    "# Example usage\n",
    "matrix = create_ones_matrix(3, 4)\n",
    "print(matrix)\n"
   ]
  },
  {
   "cell_type": "code",
   "execution_count": 2,
   "id": "0efd5d6b-4f4c-4748-8d40-42df841df7f1",
   "metadata": {},
   "outputs": [],
   "source": [
    "#13. Write a function `generate_range_array' that takes three integers start, stop, and step as arguments and creates a NumPy array with a range starting from 'start', ending at stop (exclusive), and with the specified `step'."
   ]
  },
  {
   "cell_type": "code",
   "execution_count": 3,
   "id": "b7951c15-907c-4bf8-bc69-d40c4f257484",
   "metadata": {},
   "outputs": [
    {
     "name": "stdout",
     "output_type": "stream",
     "text": [
      "[1 3 5 7 9]\n"
     ]
    }
   ],
   "source": [
    "import numpy as np\n",
    "\n",
    "def generate_range_array(start, stop, step):\n",
    "    return np.arange(start, stop, step)\n",
    "\n",
    "# Example usage\n",
    "range_array = generate_range_array(1, 10, 2)\n",
    "print(range_array)"
   ]
  },
  {
   "cell_type": "code",
   "execution_count": 4,
   "id": "9aca40f1-c4ef-49fd-82dd-2b33f64026b6",
   "metadata": {},
   "outputs": [],
   "source": [
    "#14. Design a function 'generate_linear_space' that takes two floats 'start', 'stop', and an integer 'num' as arguments and generates a NumPy array with num equally spaced values between 'start' and 'stop' (inclusive)."
   ]
  },
  {
   "cell_type": "code",
   "execution_count": 5,
   "id": "639a30ec-c2d9-4e06-b1af-1492df084c90",
   "metadata": {},
   "outputs": [
    {
     "name": "stdout",
     "output_type": "stream",
     "text": [
      "[0.   0.25 0.5  0.75 1.  ]\n"
     ]
    }
   ],
   "source": [
    "def generate_linear_space(start, stop, num):\n",
    "     return np.linspace(start, stop, num)\n",
    "    \n",
    "# Example usage\n",
    "linear_space_array = generate_linear_space(0.0, 1.0, 5)\n",
    "print(linear_space_array)\n",
    "\n"
   ]
  },
  {
   "cell_type": "code",
   "execution_count": 6,
   "id": "17fb477f-0a97-4cf4-a386-75adf3c35c32",
   "metadata": {},
   "outputs": [],
   "source": [
    "#15. Create a function 'create_identity_matrix' that takes an integer 'n' as input and generates a square identity matrix of size 'n x n` using 'numpy.eye'."
   ]
  },
  {
   "cell_type": "code",
   "execution_count": 7,
   "id": "32b91bba-ccc3-4a16-a4df-ee9cb5ee5e5c",
   "metadata": {},
   "outputs": [
    {
     "name": "stdout",
     "output_type": "stream",
     "text": [
      "[[1. 0. 0.]\n",
      " [0. 1. 0.]\n",
      " [0. 0. 1.]]\n"
     ]
    }
   ],
   "source": [
    "def create_identity_matrix(n):\n",
    "    return np.eye(n)\n",
    "\n",
    "# Example usage\n",
    "identity_matrix = create_identity_matrix(3)\n",
    "print(identity_matrix)\n"
   ]
  },
  {
   "cell_type": "code",
   "execution_count": 8,
   "id": "0464d5de-6483-4aa4-9943-e968d917082d",
   "metadata": {},
   "outputs": [],
   "source": [
    "#16. Write a function that takes a Python list and converts it into a NumPy array."
   ]
  },
  {
   "cell_type": "code",
   "execution_count": 9,
   "id": "f4f8296b-ce82-4bd6-b59b-3d75e3da6771",
   "metadata": {},
   "outputs": [
    {
     "name": "stdout",
     "output_type": "stream",
     "text": [
      "[1 2 3 4 5]\n"
     ]
    }
   ],
   "source": [
    "def convert_to_numpy_array(py_list):\n",
    "    return np.array(py_list)\n",
    "\n",
    "# Example usage\n",
    "my_list = [1, 2, 3, 4, 5]\n",
    "numpy_array = convert_to_numpy_array(my_list)\n",
    "print(numpy_array)\n"
   ]
  },
  {
   "cell_type": "code",
   "execution_count": 10,
   "id": "af9b4732-e460-445e-8ce7-75c165d84453",
   "metadata": {},
   "outputs": [],
   "source": [
    "#17. Create a NumPy array and demonstrate the use of 'numpy.view' to create a new array object with the same data."
   ]
  },
  {
   "cell_type": "code",
   "execution_count": 11,
   "id": "d57c9305-ad7c-4a1d-bb51-4392e3117e44",
   "metadata": {},
   "outputs": [
    {
     "name": "stdout",
     "output_type": "stream",
     "text": [
      "Original Array:\n",
      "[[100   2   3]\n",
      " [  4   5   6]]\n",
      "\n",
      "View Array:\n",
      "[[100   2   3]\n",
      " [  4   5   6]]\n"
     ]
    }
   ],
   "source": [
    "import numpy as np\n",
    "\n",
    "# Creating a NumPy array\n",
    "original_array = np.array([[1, 2, 3], [4, 5, 6]])\n",
    "\n",
    "# Using numpy.view to create a new array with the same data\n",
    "view_array = original_array.view()\n",
    "\n",
    "# Modifying the view array will also modify the original array\n",
    "view_array[0, 0] = 100\n",
    "\n",
    "# Displaying both arrays\n",
    "print(\"Original Array:\")\n",
    "print(original_array)\n",
    "print(\"\\nView Array:\")\n",
    "print(view_array)\n"
   ]
  },
  {
   "cell_type": "code",
   "execution_count": 12,
   "id": "d8b0d8ab-b26c-48bb-9df8-3bd7218aeb3d",
   "metadata": {},
   "outputs": [],
   "source": [
    "#18. Write a function that takes two NumPy arrays and concatenates them along a specified axis."
   ]
  },
  {
   "cell_type": "code",
   "execution_count": 13,
   "id": "690f2a77-f18d-477c-8979-cf93cc6ab173",
   "metadata": {},
   "outputs": [
    {
     "name": "stdout",
     "output_type": "stream",
     "text": [
      "Concatenated along axis 0:\n",
      "[[ 1  2  3]\n",
      " [ 4  5  6]\n",
      " [ 7  8  9]\n",
      " [10 11 12]]\n",
      "\n",
      "Concatenated along axis 1:\n",
      "[[ 1  2  3  7  8  9]\n",
      " [ 4  5  6 10 11 12]]\n"
     ]
    }
   ],
   "source": [
    "\n",
    "\n",
    "def concatenate_arrays(arr1, arr2, axis=0):\n",
    "    return np.concatenate((arr1, arr2), axis=axis)\n",
    "\n",
    "# Example usage\n",
    "array1 = np.array([[1, 2, 3], [4, 5, 6]])\n",
    "array2 = np.array([[7, 8, 9], [10, 11, 12]])\n",
    "\n",
    "# Concatenating along the first axis (rows)\n",
    "result_axis0 = concatenate_arrays(array1, array2)\n",
    "print(\"Concatenated along axis 0:\")\n",
    "print(result_axis0)\n",
    "\n",
    "# Concatenating along the second axis (columns)\n",
    "result_axis1 = concatenate_arrays(array1, array2, axis=1)\n",
    "print(\"\\nConcatenated along axis 1:\")\n",
    "print(result_axis1)\n",
    "\n"
   ]
  },
  {
   "cell_type": "code",
   "execution_count": 14,
   "id": "5923dc4a-47b2-456b-b728-23958da9a612",
   "metadata": {},
   "outputs": [],
   "source": [
    "#19. Create two NumPy arrays with different shapes and concatenate them horizontally using 'numpy concatenate'."
   ]
  },
  {
   "cell_type": "code",
   "execution_count": 15,
   "id": "200e5974-6deb-4061-991c-e91bda25fc0e",
   "metadata": {},
   "outputs": [
    {
     "name": "stdout",
     "output_type": "stream",
     "text": [
      "Array 1:\n",
      "[[1 2 3]\n",
      " [4 5 6]]\n",
      "\n",
      "Array 2:\n",
      "[[ 7  8]\n",
      " [ 9 10]]\n",
      "\n",
      "Concatenated horizontally:\n",
      "[[ 1  2  3  7  8]\n",
      " [ 4  5  6  9 10]]\n"
     ]
    }
   ],
   "source": [
    "import numpy as np\n",
    "\n",
    "# Creating two NumPy arrays with different shapes\n",
    "array1 = np.array([[1, 2, 3], [4, 5, 6]])  # Shape: (2, 3)\n",
    "array2 = np.array([[7, 8], [9, 10]])       # Shape: (2, 2)\n",
    "\n",
    "# Concatenating them horizontally\n",
    "result = np.concatenate((array1, array2), axis=1)\n",
    "\n",
    "print(\"Array 1:\")\n",
    "print(array1)\n",
    "print(\"\\nArray 2:\")\n",
    "print(array2)\n",
    "print(\"\\nConcatenated horizontally:\")\n",
    "print(result)\n"
   ]
  },
  {
   "cell_type": "code",
   "execution_count": 16,
   "id": "7e9c1e0e-7c3e-428d-b021-55c6d2c2b202",
   "metadata": {},
   "outputs": [],
   "source": [
    "#20. Write a function that vertically stacks multiple NumPy arrays given as a list."
   ]
  },
  {
   "cell_type": "code",
   "execution_count": 17,
   "id": "293839e5-074f-4ec0-9c47-1f45eacb2579",
   "metadata": {},
   "outputs": [
    {
     "name": "stdout",
     "output_type": "stream",
     "text": [
      "Stacked vertically:\n",
      "[[ 1  2  3]\n",
      " [ 4  5  6]\n",
      " [ 7  8  9]\n",
      " [10 11 12]\n",
      " [13 14 15]\n",
      " [16 17 18]]\n"
     ]
    }
   ],
   "source": [
    "def stack_arrays_vertically(arrays):\n",
    "    return np.vstack(arrays)\n",
    "\n",
    "# Example usage\n",
    "array1 = np.array([[1, 2, 3], [4, 5, 6]])\n",
    "array2 = np.array([[7, 8, 9], [10, 11, 12]])\n",
    "array3 = np.array([[13, 14, 15], [16, 17, 18]])\n",
    "\n",
    "# Stack arrays vertically\n",
    "result = stack_arrays_vertically([array1, array2, array3])\n",
    "print(\"Stacked vertically:\")\n",
    "print(result)\n"
   ]
  },
  {
   "cell_type": "code",
   "execution_count": 18,
   "id": "8da30fff-05f6-43d2-aa46-89bd70837bc2",
   "metadata": {},
   "outputs": [],
   "source": [
    "#21. Write a Python function using NumPy to create an array of integers within a specified range (inclusive) with a given step size."
   ]
  },
  {
   "cell_type": "code",
   "execution_count": 19,
   "id": "57e154e2-ef8e-42fb-b5d2-0dd08919485d",
   "metadata": {},
   "outputs": [
    {
     "name": "stdout",
     "output_type": "stream",
     "text": [
      "[ 0  2  4  6  8 10]\n"
     ]
    }
   ],
   "source": [
    "import numpy as np\n",
    "\n",
    "def create_integer_array(start, stop, step):\n",
    "    return np.arange(start, stop+1, step, dtype=int)\n",
    "\n",
    "# Example usage:\n",
    "start = 0\n",
    "stop = 10\n",
    "step = 2\n",
    "result_array = create_integer_array(start, stop, step)\n",
    "print(result_array)\n"
   ]
  },
  {
   "cell_type": "code",
   "execution_count": 20,
   "id": "5f5866b3-232d-4eb4-a463-3e5599334c36",
   "metadata": {},
   "outputs": [],
   "source": [
    "#22. Write a Python function using NumPy to generate an array of 10 equally spaced values between 0 and 1(inclusive)."
   ]
  },
  {
   "cell_type": "code",
   "execution_count": 21,
   "id": "4893ea28-bd3b-4fb8-872f-27135a7112e1",
   "metadata": {},
   "outputs": [
    {
     "name": "stdout",
     "output_type": "stream",
     "text": [
      "[0.         0.11111111 0.22222222 0.33333333 0.44444444 0.55555556\n",
      " 0.66666667 0.77777778 0.88888889 1.        ]\n"
     ]
    }
   ],
   "source": [
    "import numpy as np\n",
    "\n",
    "def generate_equally_spaced_values():\n",
    "    return np.linspace(0, 1, 10)\n",
    "\n",
    "# Example usage:\n",
    "result_array = generate_equally_spaced_values()\n",
    "print(result_array)\n"
   ]
  },
  {
   "cell_type": "code",
   "execution_count": 22,
   "id": "8524980c-c282-4401-b087-9e1ea70db23d",
   "metadata": {},
   "outputs": [],
   "source": [
    "#23. Write a Python function using NumPy to create an array of 5 logarithmically spaced values between 1 and 1000 (inclusive)."
   ]
  },
  {
   "cell_type": "code",
   "execution_count": 23,
   "id": "a43b422d-274f-4ad2-a00e-4dd4d621d9d6",
   "metadata": {},
   "outputs": [
    {
     "name": "stdout",
     "output_type": "stream",
     "text": [
      "[   1.            5.62341325   31.6227766   177.827941   1000.        ]\n"
     ]
    }
   ],
   "source": [
    "import numpy as np\n",
    "\n",
    "def generate_logarithmically_spaced_values():\n",
    "    return np.logspace(0, 3, 5)\n",
    "\n",
    "# Example usage:\n",
    "result_array = generate_logarithmically_spaced_values()\n",
    "print(result_array)\n"
   ]
  },
  {
   "cell_type": "code",
   "execution_count": 25,
   "id": "445f7df1-c460-4b0c-8c9f-b29eeb4b2a79",
   "metadata": {},
   "outputs": [],
   "source": [
    "#24. Create a Pandas DataFrame using a NumPy array that contains 5 rows and 3 columns, where the values are random integers between 1 and 100. \n"
   ]
  },
  {
   "cell_type": "code",
   "execution_count": 27,
   "id": "4e726f17-8b55-4e19-91b4-48a4b4e44f63",
   "metadata": {},
   "outputs": [
    {
     "name": "stdout",
     "output_type": "stream",
     "text": [
      "   Column 1  Column 2  Column 3\n",
      "0        41        98       100\n",
      "1        70        26        94\n",
      "2        43        40        85\n",
      "3        80        28        83\n",
      "4        87        28        24\n"
     ]
    }
   ],
   "source": [
    " #code  \n",
    "    \n",
    "    \n",
    "import numpy as np\n",
    "import pandas as pd\n",
    "\n",
    "# Create a NumPy array of random integers\n",
    "random_array = np.random.randint(1, 101, size=(5, 3))\n",
    "\n",
    "# Create a DataFrame from the NumPy array\n",
    "df = pd.DataFrame(random_array, columns=['Column 1', 'Column 2', 'Column 3'])\n",
    "\n",
    "print(df)"
   ]
  },
  {
   "cell_type": "code",
   "execution_count": 28,
   "id": "003da5c4-bd0c-4829-b007-e88c2aa75458",
   "metadata": {},
   "outputs": [],
   "source": [
    "#25. Write a function that takes a Pandas DataFrame and replaces all negative values in a specific column with zeros. Use NumPy operations within the Pandas DataFrame."
   ]
  },
  {
   "cell_type": "code",
   "execution_count": 29,
   "id": "704e14b5-4630-4d4d-862c-78993f6d54ca",
   "metadata": {},
   "outputs": [
    {
     "name": "stdout",
     "output_type": "stream",
     "text": [
      "Original DataFrame:\n",
      "   A  B\n",
      "0 -1  5\n",
      "1  2 -6\n",
      "2 -3  7\n",
      "3  4 -8\n",
      "4 -5  9\n",
      "\n",
      "DataFrame after replacing negative values in column 'A' with zeros:\n",
      "   A  B\n",
      "0  0  5\n",
      "1  2 -6\n",
      "2  0  7\n",
      "3  4 -8\n",
      "4  0  9\n"
     ]
    }
   ],
   "source": [
    "def replace_negative_with_zeros(dataframe, column_name):\n",
    "    # Replace negative values with zeros using NumPy where function\n",
    "    dataframe[column_name] = np.where(dataframe[column_name] < 0, 0, dataframe[column_name])\n",
    "\n",
    "# Example usage:\n",
    "# Create a sample DataFrame\n",
    "data = {'A': [-1, 2, -3, 4, -5],\n",
    "        'B': [5, -6, 7, -8, 9]}\n",
    "df = pd.DataFrame(data)\n",
    "\n",
    "print(\"Original DataFrame:\")\n",
    "print(df)\n",
    "\n",
    "# Replace negative values in column 'A' with zeros\n",
    "replace_negative_with_zeros(df, 'A')\n",
    "\n",
    "print(\"\\nDataFrame after replacing negative values in column 'A' with zeros:\")\n",
    "print(df)\n"
   ]
  },
  {
   "cell_type": "code",
   "execution_count": 30,
   "id": "36de8d1e-9140-43dc-8813-2e9ee9752ac7",
   "metadata": {},
   "outputs": [],
   "source": [
    "#26. Access the 3rd element from the given NumPy array."
   ]
  },
  {
   "cell_type": "code",
   "execution_count": 31,
   "id": "7fd0d4f5-8abd-4177-822f-f1da7015e256",
   "metadata": {},
   "outputs": [
    {
     "name": "stdout",
     "output_type": "stream",
     "text": [
      "The 3rd element: 30\n"
     ]
    }
   ],
   "source": [
    "import numpy as np\n",
    "\n",
    "arr = np.array([10, 20, 30, 40, 50])\n",
    "\n",
    "# Accessing the 3rd element (index 2)\n",
    "third_element = arr[2]\n",
    "\n",
    "print(\"The 3rd element:\", third_element)\n"
   ]
  },
  {
   "cell_type": "code",
   "execution_count": 32,
   "id": "31840447-4962-4979-9726-0d8892a10860",
   "metadata": {},
   "outputs": [],
   "source": [
    "#27. Retrieve the element at index (1, 2) from the 2D NumPy array."
   ]
  },
  {
   "cell_type": "code",
   "execution_count": 33,
   "id": "07e6d133-3903-4ea2-9e29-098479cda9ad",
   "metadata": {},
   "outputs": [
    {
     "name": "stdout",
     "output_type": "stream",
     "text": [
      "Element at index (1, 2): 6\n"
     ]
    }
   ],
   "source": [
    "# Create a 2D NumPy array\n",
    "arr_2d = np.array([[1, 2, 3],\n",
    "                    [4, 5, 6],\n",
    "                    [7, 8, 9]])\n",
    "\n",
    "# Retrieve the element at index (1, 2)\n",
    "element_at_1_2 = arr_2d[1, 2]\n",
    "\n",
    "print(\"Element at index (1, 2):\", element_at_1_2)\n"
   ]
  },
  {
   "cell_type": "code",
   "execution_count": 34,
   "id": "602177a4-30f7-4330-a1fa-0f8f1f086488",
   "metadata": {},
   "outputs": [],
   "source": [
    "#28. Using boolean indexing, extract elements greater than 5 from the given NumPy array"
   ]
  },
  {
   "cell_type": "code",
   "execution_count": 35,
   "id": "2f3fd339-645a-47ab-b725-3e993d84bf67",
   "metadata": {},
   "outputs": [
    {
     "name": "stdout",
     "output_type": "stream",
     "text": [
      "Elements greater than 5: [ 8 10  7]\n"
     ]
    }
   ],
   "source": [
    "arr = np.array([3, 8, 2, 10, 5, 7])\n",
    "\n",
    "# Boolean indexing to extract elements greater than 5\n",
    "result = arr[arr > 5]\n",
    "\n",
    "print(\"Elements greater than 5:\", result)\n"
   ]
  },
  {
   "cell_type": "code",
   "execution_count": 36,
   "id": "31efef28-9c79-492c-9c5f-7b9ac6082096",
   "metadata": {},
   "outputs": [],
   "source": [
    "#29. Perform basic slicing to extract elements from index 2 to 5 (inclusive) from the given NumPy array."
   ]
  },
  {
   "cell_type": "code",
   "execution_count": 37,
   "id": "56db2600-ba57-4f06-b567-4304d5372101",
   "metadata": {},
   "outputs": [
    {
     "name": "stdout",
     "output_type": "stream",
     "text": [
      "Elements from index 2 to 5 (inclusive): [3 4 5 6]\n"
     ]
    }
   ],
   "source": [
    "arr = np.array([1, 2, 3, 4, 5, 6, 7, 8, 9])\n",
    "\n",
    "# Perform basic slicing to extract elements from index 2 to 5 (inclusive)\n",
    "result = arr[2:6]\n",
    "\n",
    "print(\"Elements from index 2 to 5 (inclusive):\", result)\n"
   ]
  },
  {
   "cell_type": "code",
   "execution_count": 38,
   "id": "82b4dcc3-5388-475f-af6d-3fe7d8b476ad",
   "metadata": {},
   "outputs": [],
   "source": [
    "#30. Slice the 2D NumPy array to extract the sub-array `[[2, 3], [5, 6]]` from the given array"
   ]
  },
  {
   "cell_type": "code",
   "execution_count": 39,
   "id": "3561723c-570f-47bc-8569-b513f9d84c2b",
   "metadata": {},
   "outputs": [
    {
     "name": "stdout",
     "output_type": "stream",
     "text": [
      "Sub-array [[2, 3], [5, 6]]:\n",
      "[[2 3]\n",
      " [5 6]]\n"
     ]
    }
   ],
   "source": [
    "# Create a 2D NumPy array\n",
    "arr_2d = np.array([[1, 2, 3],\n",
    "                    [4, 5, 6],\n",
    "                    [7, 8, 9]])\n",
    "\n",
    "# Slice the 2D array to extract the sub-array [[2, 3], [5, 6]]\n",
    "sub_array = arr_2d[0:2, 1:3]\n",
    "\n",
    "print(\"Sub-array [[2, 3], [5, 6]]:\")\n",
    "print(sub_array)\n"
   ]
  },
  {
   "cell_type": "code",
   "execution_count": 40,
   "id": "5677d1c6-9e78-494d-8fc8-fe5dd9098625",
   "metadata": {},
   "outputs": [],
   "source": [
    "#31.Write a NumPy function to extract elements in specific order from a given 2D array based on indices provided in another array"
   ]
  },
  {
   "cell_type": "code",
   "execution_count": 41,
   "id": "278f0ad1-77f2-4b36-aba2-ec737957ea51",
   "metadata": {},
   "outputs": [
    {
     "name": "stdout",
     "output_type": "stream",
     "text": [
      "Extracted elements based on provided indices: [2 5 7 8]\n"
     ]
    }
   ],
   "source": [
    "def extract_elements_2d_array(arr_2d, indices):\n",
    "    # Flatten the 2D array and use advanced indexing with the provided indices\n",
    "    return arr_2d.flatten()[indices]\n",
    "\n",
    "# Example usage:\n",
    "arr_2d = np.array([[1, 2, 3],\n",
    "                    [4, 5, 6],\n",
    "                    [7, 8, 9]])\n",
    "\n",
    "indices = np.array([1, 4, 6, 7])  # Indices to extract elements from the 2D array\n",
    "\n",
    "result = extract_elements_2d_array(arr_2d, indices)\n",
    "print(\"Extracted elements based on provided indices:\", result)\n"
   ]
  },
  {
   "cell_type": "code",
   "execution_count": 42,
   "id": "fb47840c-aa82-4404-8eab-ab313346ecac",
   "metadata": {},
   "outputs": [],
   "source": [
    "#32. Create a NumPy function that filters elements greater than a threshold from a given 1D array using boolean indexing.\n"
   ]
  },
  {
   "cell_type": "code",
   "execution_count": 43,
   "id": "5d703e82-7acf-44a9-9395-3fbd1f870d92",
   "metadata": {},
   "outputs": [
    {
     "name": "stdout",
     "output_type": "stream",
     "text": [
      "Filtered elements greater than 5 : [6 7 8 9]\n"
     ]
    }
   ],
   "source": [
    "def filter_greater_than_threshold(arr, threshold):\n",
    "    return arr[arr > threshold]\n",
    "\n",
    "# Example usage:\n",
    "arr = np.array([1, 2, 3, 4, 5, 6, 7, 8, 9])\n",
    "threshold = 5\n",
    "\n",
    "result = filter_greater_than_threshold(arr, threshold)\n",
    "print(\"Filtered elements greater than\", threshold, \":\", result)\n"
   ]
  },
  {
   "cell_type": "code",
   "execution_count": 44,
   "id": "f25b036b-a98b-4604-87e2-489ec2bcbb44",
   "metadata": {},
   "outputs": [],
   "source": [
    "#33. Develop a NumPy function that extracts specific elements from a 3D array using indices provided in three separate arrays for each dimension"
   ]
  },
  {
   "cell_type": "code",
   "execution_count": 45,
   "id": "0bb15b00-0274-4f52-a629-709044ff5526",
   "metadata": {},
   "outputs": [
    {
     "name": "stdout",
     "output_type": "stream",
     "text": [
      "Extracted elements from the 3D array based on provided indices:\n",
      "[ 4 18]\n"
     ]
    }
   ],
   "source": [
    "def extract_elements_3d_array(arr_3d, indices_dim1, indices_dim2, indices_dim3):\n",
    "    # Use advanced indexing with provided indices for each dimension\n",
    "    return arr_3d[indices_dim1, indices_dim2, indices_dim3]\n",
    "\n",
    "# Example usage:\n",
    "arr_3d = np.array([[[1, 2, 3],\n",
    "                    [4, 5, 6],\n",
    "                    [7, 8, 9]],\n",
    "                   [[10, 11, 12],\n",
    "                    [13, 14, 15],\n",
    "                    [16, 17, 18]]])\n",
    "\n",
    "indices_dim1 = np.array([0, 1])  # Indices for dimension 1\n",
    "indices_dim2 = np.array([1, 2])  # Indices for dimension 2\n",
    "indices_dim3 = np.array([0, 2])  # Indices for dimension 3\n",
    "\n",
    "result = extract_elements_3d_array(arr_3d, indices_dim1, indices_dim2, indices_dim3)\n",
    "print(\"Extracted elements from the 3D array based on provided indices:\")\n",
    "print(result)\n"
   ]
  },
  {
   "cell_type": "code",
   "execution_count": 46,
   "id": "2a4bb541-4fbc-4a91-91d8-36402ff85b6d",
   "metadata": {},
   "outputs": [],
   "source": [
    "#34. Write a NumPy function that returns elements from an array where both two conditions are satisfied using boolean indexing"
   ]
  },
  {
   "cell_type": "code",
   "execution_count": 47,
   "id": "672b92b3-8630-40b4-b3d8-f703a554ea4d",
   "metadata": {},
   "outputs": [
    {
     "name": "stdout",
     "output_type": "stream",
     "text": [
      "Elements from the array satisfying both conditions: [4 6 8]\n"
     ]
    }
   ],
   "source": [
    "def filter_with_multiple_conditions(arr, condition1, condition2):\n",
    "    return arr[(condition1) & (condition2)]\n",
    "\n",
    "# Example usage:\n",
    "arr = np.array([1, 2, 3, 4, 5, 6, 7, 8, 9])\n",
    "\n",
    "# Define conditions\n",
    "condition1 = arr > 3\n",
    "condition2 = arr % 2 == 0\n",
    "\n",
    "# Apply boolean indexing with multiple conditions\n",
    "result = filter_with_multiple_conditions(arr, condition1, condition2)\n",
    "print(\"Elements from the array satisfying both conditions:\", result)\n",
    "\n"
   ]
  },
  {
   "cell_type": "code",
   "execution_count": 1,
   "id": "c948bf31-135f-45d3-b905-3df28b484c97",
   "metadata": {},
   "outputs": [],
   "source": [
    "#35. Create a NumPy function that extracts elements from a 2D array using row and column indices provided in separate arrays."
   ]
  },
  {
   "cell_type": "code",
   "execution_count": 2,
   "id": "8150e8db-f1a4-435d-b013-f6714d6beb2e",
   "metadata": {},
   "outputs": [
    {
     "name": "stdout",
     "output_type": "stream",
     "text": [
      "[3 5 7]\n"
     ]
    }
   ],
   "source": [
    "import numpy as np\n",
    "\n",
    "def extract_elements(array, row_indices, col_indices):\n",
    "  \n",
    "    # Ensure row_indices and col_indices are numpy arrays\n",
    "    row_indices = np.array(row_indices)\n",
    "    col_indices = np.array(col_indices)\n",
    "    \n",
    "    # Use advanced indexing to extract elements\n",
    "    extracted_elements = array[row_indices, col_indices]\n",
    "    \n",
    "    return extracted_elements\n",
    "\n",
    "# Example usage:\n",
    "array = np.array([[1, 2, 3],\n",
    "                  [4, 5, 6],\n",
    "                  [7, 8, 9]])\n",
    "\n",
    "row_indices = [0, 1, 2]\n",
    "col_indices = [2, 1, 0]\n",
    "\n",
    "elements = extract_elements(array, row_indices, col_indices)\n",
    "print(elements)  # Output: [3 5 7]\n"
   ]
  },
  {
   "cell_type": "code",
   "execution_count": 3,
   "id": "e28c04aa-c9dc-41f1-a299-ef10be0bf0af",
   "metadata": {},
   "outputs": [],
   "source": [
    "#36. Given an array arr of shape (3, 3), add a scalar value of 5 to each element using NumPy broadcasting."
   ]
  },
  {
   "cell_type": "code",
   "execution_count": 4,
   "id": "3ef82d3d-1ee4-49b5-b0ae-a28a6499c3b4",
   "metadata": {},
   "outputs": [
    {
     "name": "stdout",
     "output_type": "stream",
     "text": [
      "[[ 6  7  8]\n",
      " [ 9 10 11]\n",
      " [12 13 14]]\n"
     ]
    }
   ],
   "source": [
    "import numpy as np\n",
    "\n",
    "# Create a 3x3 array\n",
    "arr = np.array([[1, 2, 3],\n",
    "                [4, 5, 6],\n",
    "                [7, 8, 9]])\n",
    "\n",
    "# Add a scalar value of 5 to each element using broadcasting\n",
    "arr_plus_5 = arr + 5\n",
    "\n",
    "print(arr_plus_5)\n"
   ]
  },
  {
   "cell_type": "code",
   "execution_count": 5,
   "id": "5277d447-fe18-4254-9917-714dafe2aa2e",
   "metadata": {},
   "outputs": [],
   "source": [
    "#37. Consider two arrays arr1 of shape (1, 3) and arr2 of shape (3, 4). Multiply each row of arr2 by the corresponding element in arr1 using NumPy broadcasting."
   ]
  },
  {
   "cell_type": "code",
   "execution_count": 6,
   "id": "5e26b02d-6bdd-4799-a49b-4b2a199a5991",
   "metadata": {},
   "outputs": [
    {
     "name": "stdout",
     "output_type": "stream",
     "text": [
      "[[ 2  4  6  8]\n",
      " [15 18 21 24]\n",
      " [36 40 44 48]]\n"
     ]
    }
   ],
   "source": [
    "import numpy as np\n",
    "\n",
    "# Define the arrays\n",
    "arr1 = np.array([[2, 3, 4]])  # Shape (1, 3)\n",
    "arr2 = np.array([[1, 2, 3, 4],\n",
    "                 [5, 6, 7, 8],\n",
    "                 [9, 10, 11, 12]])  # Shape (3, 4)\n",
    "\n",
    "# Use broadcasting to multiply each row of arr2 by the corresponding element in arr1\n",
    "# First, we need to reshape arr1 to be (3, 1) so that it can be broadcast across arr2\n",
    "arr1_reshaped = arr1.reshape(3, 1)\n",
    "result = arr2 * arr1_reshaped\n",
    "\n",
    "print(result)\n"
   ]
  },
  {
   "cell_type": "code",
   "execution_count": 7,
   "id": "90edf560-847e-4556-b3c0-7a4c6fddee7c",
   "metadata": {},
   "outputs": [],
   "source": [
    "#38. Given a 1D array arr1 of shape (1, 4) and a 2D array arr2 of shape (4, 3), add arr1 to each row of arr2 using NumPy broadcasting."
   ]
  },
  {
   "cell_type": "code",
   "execution_count": 8,
   "id": "df488273-e4bf-4b38-9589-40721b865e10",
   "metadata": {},
   "outputs": [
    {
     "name": "stdout",
     "output_type": "stream",
     "text": [
      "[[ 6  7  8]\n",
      " [10 11 12]\n",
      " [14 15 16]\n",
      " [18 19 20]]\n"
     ]
    }
   ],
   "source": [
    "import numpy as np\n",
    "\n",
    "# Define the arrays\n",
    "arr1 = np.array([1, 2, 3, 4])  # Shape (4,)\n",
    "arr2 = np.array([[5, 6, 7],\n",
    "                 [8, 9, 10],\n",
    "                 [11, 12, 13],\n",
    "                 [14, 15, 16]])  # Shape (4, 3)\n",
    "\n",
    "# Add arr1 to each row of arr2 using broadcasting\n",
    "result = arr2 + arr1[:, np.newaxis]\n",
    "\n",
    "print(result)\n"
   ]
  },
  {
   "cell_type": "code",
   "execution_count": 9,
   "id": "85cb89b2-99e5-41cc-ad97-51158b4aa003",
   "metadata": {},
   "outputs": [],
   "source": [
    "#39. Consider two arrays arr1 of shape (3, 1) and arr2 of shape (1, 3). Add these arrays using NumPy broadcasting"
   ]
  },
  {
   "cell_type": "code",
   "execution_count": 10,
   "id": "4b1c4435-553e-45e6-8ed5-335659ac8322",
   "metadata": {},
   "outputs": [
    {
     "name": "stdout",
     "output_type": "stream",
     "text": [
      "[[5 6 7]\n",
      " [6 7 8]\n",
      " [7 8 9]]\n"
     ]
    }
   ],
   "source": [
    "import numpy as np\n",
    "\n",
    "# Define the arrays\n",
    "arr1 = np.array([[1], [2], [3]])  # Shape (3, 1)\n",
    "arr2 = np.array([[4, 5, 6]])      # Shape (1, 3)\n",
    "\n",
    "# Add the arrays using broadcasting\n",
    "result = arr1 + arr2\n",
    "\n",
    "print(result)\n"
   ]
  },
  {
   "cell_type": "code",
   "execution_count": 11,
   "id": "cb75ca0d-60ea-4883-a62c-611ec53a48ca",
   "metadata": {},
   "outputs": [],
   "source": [
    "#40. Given arrays arr1 of shape (2, 3) and arr2 of shape (2, 2), perform multiplication using NumPy broadcasting. Handle the shape incompatibility"
   ]
  },
  {
   "cell_type": "code",
   "execution_count": 12,
   "id": "705dac08-f091-4cf7-972c-e9159b364702",
   "metadata": {},
   "outputs": [
    {
     "name": "stdout",
     "output_type": "stream",
     "text": [
      "[[ 7 16 21]\n",
      " [36 50 54]]\n"
     ]
    }
   ],
   "source": [
    "import numpy as np\n",
    "\n",
    "# Define the arrays\n",
    "arr1 = np.array([[1, 2, 3],\n",
    "                 [4, 5, 6]])  # Shape (2, 3)\n",
    "\n",
    "arr2 = np.array([[7, 8],\n",
    "                 [9, 10]])    # Shape (2, 2)\n",
    "\n",
    "arr2_expanded = np.tile(arr2, (1, 2))[:, :3]\n",
    "\n",
    "# Perform element-wise multiplication using broadcasting\n",
    "result = arr1 * arr2_expanded\n",
    "\n",
    "print(result)\n"
   ]
  },
  {
   "cell_type": "code",
   "execution_count": 13,
   "id": "905c4fb3-5248-416b-bcfb-3832220114dc",
   "metadata": {},
   "outputs": [],
   "source": [
    "#41. Calculate column wise mean for the given array"
   ]
  },
  {
   "cell_type": "code",
   "execution_count": 14,
   "id": "4c9fe3c9-8282-49c6-849a-67cbce51a374",
   "metadata": {},
   "outputs": [
    {
     "name": "stdout",
     "output_type": "stream",
     "text": [
      "[4. 5. 6.]\n"
     ]
    }
   ],
   "source": [
    "import numpy as np\n",
    "\n",
    "# Define the array\n",
    "arr = np.array([[1, 2, 3],\n",
    "                [4, 5, 6],\n",
    "                [7, 8, 9]])\n",
    "\n",
    "# Calculate the column-wise mean\n",
    "column_wise_mean = np.mean(arr, axis=0)\n",
    "\n",
    "print(column_wise_mean)\n"
   ]
  },
  {
   "cell_type": "code",
   "execution_count": 15,
   "id": "d11b8817-fea7-4ac5-a0f9-3be59ced69c0",
   "metadata": {},
   "outputs": [],
   "source": [
    "#42. Find maximum value in each row of the given array"
   ]
  },
  {
   "cell_type": "code",
   "execution_count": 16,
   "id": "627f7f38-ed6f-4292-a249-b2a39a389437",
   "metadata": {},
   "outputs": [
    {
     "name": "stdout",
     "output_type": "stream",
     "text": [
      "[3 6]\n"
     ]
    }
   ],
   "source": [
    "import numpy as np\n",
    "\n",
    "# Define the array\n",
    "arr = np.array([[1, 2, 3],\n",
    "                [4, 5, 6]])\n",
    "\n",
    "# Find the maximum value in each row\n",
    "row_wise_max = np.max(arr, axis=1)\n",
    "\n",
    "print(row_wise_max)\n"
   ]
  },
  {
   "cell_type": "code",
   "execution_count": 17,
   "id": "7e15ddf7-3331-4240-92f0-edac58e3972d",
   "metadata": {},
   "outputs": [],
   "source": [
    "#43. For the given array, find indices of maximum value in each column.\n"
   ]
  },
  {
   "cell_type": "code",
   "execution_count": 18,
   "id": "50d6e7e3-8be4-4f74-bc8d-495d3796b04a",
   "metadata": {},
   "outputs": [
    {
     "name": "stdout",
     "output_type": "stream",
     "text": [
      "[1 1 1]\n"
     ]
    }
   ],
   "source": [
    "import numpy as np\n",
    "\n",
    "# Define the array\n",
    "arr = np.array([[1, 2, 3],\n",
    "                [4, 5, 6]])\n",
    "\n",
    "# Find the indices of the maximum values in each column\n",
    "column_wise_max_indices = np.argmax(arr, axis=0)\n",
    "\n",
    "print(column_wise_max_indices)\n"
   ]
  },
  {
   "cell_type": "code",
   "execution_count": 19,
   "id": "257f9206-73ed-4915-b1fc-9dde60812c6d",
   "metadata": {},
   "outputs": [],
   "source": [
    "#44. For the given array, apply custom function to calculate moving sum along rows."
   ]
  },
  {
   "cell_type": "code",
   "execution_count": 20,
   "id": "32f5e108-b026-441a-8bf7-ea6ca0eae47b",
   "metadata": {},
   "outputs": [
    {
     "name": "stdout",
     "output_type": "stream",
     "text": [
      "Moving sum along rows:\n",
      "[[ 1.  3.  5.]\n",
      " [ 4.  9. 11.]]\n"
     ]
    }
   ],
   "source": [
    "import numpy as np\n",
    "\n",
    "def moving_sum_along_rows(arr, window_size):\n",
    "    padded_arr = np.pad(arr, ((0, 0), (window_size - 1, 0)), mode='constant')\n",
    "    # Use a convolution operation to calculate the moving sum along rows\n",
    "    moving_sum = np.apply_along_axis(lambda row: np.convolve(row, np.ones(window_size), mode='valid'), axis=1, arr=padded_arr)\n",
    "    return moving_sum\n",
    "\n",
    "# Given array\n",
    "arr = np.array([[1, 2, 3], [4, 5, 6]])\n",
    "\n",
    "# Window size for moving sum\n",
    "window_size = 2\n",
    "\n",
    "# Calculate moving sum along rows\n",
    "result = moving_sum_along_rows(arr, window_size)\n",
    "print(\"Moving sum along rows:\")\n",
    "print(result)\n"
   ]
  },
  {
   "cell_type": "code",
   "execution_count": 21,
   "id": "625ddff3-d72c-410d-b1cb-369b9bf12da2",
   "metadata": {},
   "outputs": [],
   "source": [
    "#45. In the given array, check if all elements in each column are even"
   ]
  },
  {
   "cell_type": "code",
   "execution_count": 22,
   "id": "de359eb9-7fd3-4392-9905-fbc8dbb8bed3",
   "metadata": {},
   "outputs": [
    {
     "name": "stdout",
     "output_type": "stream",
     "text": [
      "Are all elements in each column even?\n",
      "[False False False]\n"
     ]
    }
   ],
   "source": [
    "import numpy as np\n",
    "\n",
    "# Given array\n",
    "arr = np.array([[2, 4, 6], [3, 5, 7]])\n",
    "\n",
    "# Check if all elements in each column are even\n",
    "all_even_columns = np.all(arr % 2 == 0, axis=0)\n",
    "\n",
    "print(\"Are all elements in each column even?\")\n",
    "print(all_even_columns)\n"
   ]
  },
  {
   "cell_type": "code",
   "execution_count": 23,
   "id": "9f65b015-40ef-48df-b1bb-64379d746010",
   "metadata": {},
   "outputs": [],
   "source": [
    "#46. Given a NumPy array arr, reshape it into a matrix of dimensions `m` rows and `n` columns. Return the reshaped matrix"
   ]
  },
  {
   "cell_type": "code",
   "execution_count": 24,
   "id": "df303b68-9f6f-4ee0-97f2-6cdf24248ce8",
   "metadata": {},
   "outputs": [
    {
     "name": "stdout",
     "output_type": "stream",
     "text": [
      "Reshaped matrix:\n",
      "[[1 2 3]\n",
      " [4 5 6]]\n"
     ]
    }
   ],
   "source": [
    "import numpy as np\n",
    "\n",
    "# Given array\n",
    "original_array = np.array([1, 2, 3, 4, 5, 6])\n",
    "\n",
    "# Specify the dimensions of the desired matrix\n",
    "m = 2  # Number of rows\n",
    "n = 3  # Number of columns\n",
    "\n",
    "# Reshape the array into a matrix of dimensions m x n\n",
    "reshaped_matrix = original_array.reshape(m, n)\n",
    "\n",
    "print(\"Reshaped matrix:\")\n",
    "print(reshaped_matrix)\n"
   ]
  },
  {
   "cell_type": "code",
   "execution_count": 25,
   "id": "850e75b2-c68e-4d24-9358-9422ec4c1ab9",
   "metadata": {},
   "outputs": [],
   "source": [
    "#47. Create a function that takes a matrix as input and returns the flattened array."
   ]
  },
  {
   "cell_type": "code",
   "execution_count": 26,
   "id": "f17af627-0aec-4957-9902-d836ae6af00e",
   "metadata": {},
   "outputs": [
    {
     "name": "stdout",
     "output_type": "stream",
     "text": [
      "Flattened array:\n",
      "[1 2 3 4 5 6]\n"
     ]
    }
   ],
   "source": [
    "import numpy as np\n",
    "\n",
    "def flatten_matrix(input_matrix):\n",
    "    # Flatten the matrix into a 1D array\n",
    "    flattened_array = input_matrix.flatten()\n",
    "    return flattened_array\n",
    "\n",
    "# Given matrix\n",
    "input_matrix = np.array([[1, 2, 3], [4, 5, 6]])\n",
    "\n",
    "# Call the function to flatten the matrix\n",
    "flattened_array = flatten_matrix(input_matrix)\n",
    "\n",
    "print(\"Flattened array:\")\n",
    "print(flattened_array)\n"
   ]
  },
  {
   "cell_type": "code",
   "execution_count": 27,
   "id": "b99a98e1-2520-4ebc-b9fb-e2adbd36932f",
   "metadata": {},
   "outputs": [],
   "source": [
    "#48. Write a function that concatenates two given arrays along a specified axis."
   ]
  },
  {
   "cell_type": "code",
   "execution_count": 28,
   "id": "22a0bc92-fb9f-4f15-bd9c-ecde7656a6fd",
   "metadata": {},
   "outputs": [
    {
     "name": "stdout",
     "output_type": "stream",
     "text": [
      "Concatenated along axis 0:\n",
      "[[1 2]\n",
      " [3 4]\n",
      " [5 6]\n",
      " [7 8]]\n",
      "Concatenated along axis 1:\n",
      "[[1 2 5 6]\n",
      " [3 4 7 8]]\n"
     ]
    }
   ],
   "source": [
    "import numpy as np\n",
    "\n",
    "def concatenate_arrays(arr1, arr2, axis=0):\n",
    "    # Concatenate the arrays along the specified axis\n",
    "    concatenated_array = np.concatenate((arr1, arr2), axis=axis)\n",
    "    return concatenated_array\n",
    "\n",
    "# Given arrays\n",
    "array1 = np.array([[1, 2], [3, 4]])\n",
    "array2 = np.array([[5, 6], [7, 8]])\n",
    "\n",
    "# Call the function to concatenate arrays along axis 0 (rows)\n",
    "result_axis0 = concatenate_arrays(array1, array2, axis=0)\n",
    "print(\"Concatenated along axis 0:\")\n",
    "print(result_axis0)\n",
    "\n",
    "# Call the function to concatenate arrays along axis 1 (columns)\n",
    "result_axis1 = concatenate_arrays(array1, array2, axis=1)\n",
    "print(\"Concatenated along axis 1:\")\n",
    "print(result_axis1)\n"
   ]
  },
  {
   "cell_type": "code",
   "execution_count": 29,
   "id": "9aee47e3-022d-4539-a181-e695f9a1f0e1",
   "metadata": {},
   "outputs": [],
   "source": [
    "#49. Create a function that splits an array into multiple sub-arrays along a specified axis."
   ]
  },
  {
   "cell_type": "code",
   "execution_count": 30,
   "id": "46389f5b-cb95-4f0c-b969-8303862fcbab",
   "metadata": {},
   "outputs": [
    {
     "name": "stdout",
     "output_type": "stream",
     "text": [
      "Sub-arrays after splitting along axis 0:\n",
      "[[1 2 3]]\n",
      "[[4 5 6]]\n",
      "[[7 8 9]]\n",
      "Sub-arrays after splitting along axis 1:\n",
      "[[1]\n",
      " [4]\n",
      " [7]]\n",
      "[[2]\n",
      " [5]\n",
      " [8]]\n",
      "[[3]\n",
      " [6]\n",
      " [9]]\n"
     ]
    }
   ],
   "source": [
    "import numpy as np\n",
    "\n",
    "def split_array(original_array, num_splits, axis=0):\n",
    "    # Split the array into multiple sub-arrays along the specified axis\n",
    "    sub_arrays = np.split(original_array, num_splits, axis=axis)\n",
    "    return sub_arrays\n",
    "\n",
    "# Given array\n",
    "original_array = np.array([[1, 2, 3], [4, 5, 6], [7, 8, 9]])\n",
    "\n",
    "# Call the function to split the array into 3 sub-arrays along axis 0 (rows)\n",
    "result = split_array(original_array, num_splits=3, axis=0)\n",
    "print(\"Sub-arrays after splitting along axis 0:\")\n",
    "for sub_array in result:\n",
    "    print(sub_array)\n",
    "\n",
    "# Call the function to split the array into 3 sub-arrays along axis 1 (columns)\n",
    "result = split_array(original_array, num_splits=3, axis=1)\n",
    "print(\"Sub-arrays after splitting along axis 1:\")\n",
    "for sub_array in result:\n",
    "    print(sub_array)\n"
   ]
  },
  {
   "cell_type": "code",
   "execution_count": 31,
   "id": "3bf5b676-c4de-4e43-b65a-818bb633760a",
   "metadata": {},
   "outputs": [],
   "source": [
    "#50. Write a function that inserts and then deletes elements from a given array at specified indices."
   ]
  },
  {
   "cell_type": "code",
   "execution_count": 32,
   "id": "fd5acac2-b427-4e0c-bb42-68612230119a",
   "metadata": {},
   "outputs": [
    {
     "name": "stdout",
     "output_type": "stream",
     "text": [
      "Array after insertion and deletion:\n",
      "[ 1 10 11  4  5]\n"
     ]
    }
   ],
   "source": [
    "import numpy as np\n",
    "\n",
    "def insert_and_delete_elements(original_array, indices_to_insert, values_to_insert, indices_to_delete):\n",
    "    # Insert elements at specified indices\n",
    "    for index, value in zip(indices_to_insert, values_to_insert):\n",
    "        original_array = np.insert(original_array, index, value)\n",
    "    \n",
    "    # Delete elements at specified indices\n",
    "    original_array = np.delete(original_array, indices_to_delete)\n",
    "    \n",
    "    return original_array\n",
    "\n",
    "# Given array and indices\n",
    "original_array = np.array([1, 2, 3, 4, 5])\n",
    "indices_to_insert = [2, 4]\n",
    "values_to_insert = [10, 11]\n",
    "indices_to_delete = [1, 3]\n",
    "\n",
    "# Call the function to insert and delete elements\n",
    "result_array = insert_and_delete_elements(original_array, indices_to_insert, values_to_insert, indices_to_delete)\n",
    "print(\"Array after insertion and deletion:\")\n",
    "print(result_array)\n"
   ]
  },
  {
   "cell_type": "code",
   "execution_count": 33,
   "id": "e04f329b-1dfa-49d1-af22-f11f3e76956e",
   "metadata": {},
   "outputs": [],
   "source": [
    "#51. Create a NumPy array `arr1` with random integers and another array `arr2` with integers from 1 to 10. Perform element-wise addition between `arr1` and `arr2`"
   ]
  },
  {
   "cell_type": "code",
   "execution_count": 35,
   "id": "77648cc9-9872-42d4-8439-1a487fc0b0e9",
   "metadata": {},
   "outputs": [
    {
     "name": "stdout",
     "output_type": "stream",
     "text": [
      "arr1:\n",
      "[[53 54 83 67 96]\n",
      " [57 31 77 98 96]\n",
      " [35 41 59 31 25]\n",
      " [17  4 30 70 50]\n",
      " [49 85 28  9 40]]\n",
      "\n",
      "arr2:\n",
      "[ 1  2  3  4  5  6  7  8  9 10]\n"
     ]
    },
    {
     "ename": "ValueError",
     "evalue": "operands could not be broadcast together with shapes (5,5) (10,) ",
     "output_type": "error",
     "traceback": [
      "\u001b[0;31m---------------------------------------------------------------------------\u001b[0m",
      "\u001b[0;31mValueError\u001b[0m                                Traceback (most recent call last)",
      "Cell \u001b[0;32mIn[35], line 14\u001b[0m\n\u001b[1;32m     11\u001b[0m \u001b[38;5;28mprint\u001b[39m(arr2)\n\u001b[1;32m     13\u001b[0m \u001b[38;5;66;03m# Perform element-wise addition between arr1 and arr2\u001b[39;00m\n\u001b[0;32m---> 14\u001b[0m result \u001b[38;5;241m=\u001b[39m (\u001b[43marr1\u001b[49m\u001b[43m \u001b[49m\u001b[38;5;241;43m+\u001b[39;49m\u001b[43m \u001b[49m\u001b[43marr2\u001b[49m)\n\u001b[1;32m     15\u001b[0m \u001b[38;5;28mprint\u001b[39m(\u001b[38;5;124m\"\u001b[39m\u001b[38;5;130;01m\\n\u001b[39;00m\u001b[38;5;124mElement-wise addition:\u001b[39m\u001b[38;5;124m\"\u001b[39m)\n\u001b[1;32m     16\u001b[0m \u001b[38;5;28mprint\u001b[39m(result)\n",
      "\u001b[0;31mValueError\u001b[0m: operands could not be broadcast together with shapes (5,5) (10,) "
     ]
    }
   ],
   "source": [
    "import numpy as np\n",
    "\n",
    "# Create arr1 with random integers\n",
    "arr1 = np.random.randint(1, 100, size=(5, 5))  # Random integers between 1 and 100 in a 5x5 array\n",
    "print(\"arr1:\")\n",
    "print(arr1)\n",
    "\n",
    "# Create arr2 with integers from 1 to 10\n",
    "arr2 = np.arange(1, 11)  # Integers from 1 to 10\n",
    "print(\"\\narr2:\")\n",
    "print(arr2)\n",
    "\n",
    "# Perform element-wise addition between arr1 and arr2\n",
    "result = (arr1 + arr2)\n",
    "print(\"\\nElement-wise addition:\")\n",
    "print(result)\n"
   ]
  },
  {
   "cell_type": "code",
   "execution_count": 36,
   "id": "be3c9ca8-2a60-4d97-b7e5-70ecf58e54bd",
   "metadata": {},
   "outputs": [],
   "source": [
    "##52. Generate a NumPy array `arr1` with sequential integers from 10 to 1 and another array `arr2` with integers from 1 to 10. Subtract `arr2` from `arr1` element-wise."
   ]
  },
  {
   "cell_type": "code",
   "execution_count": 37,
   "id": "f7a8b92f-70f7-4c58-b045-3cc93d3b5955",
   "metadata": {
    "tags": []
   },
   "outputs": [
    {
     "name": "stdout",
     "output_type": "stream",
     "text": [
      "arr1:\n",
      "[10  9  8  7  6  5  4  3  2  1]\n",
      "\n",
      "arr2:\n",
      "[ 1  2  3  4  5  6  7  8  9 10]\n",
      "\n",
      "Element-wise subtraction:\n",
      "[ 9  7  5  3  1 -1 -3 -5 -7 -9]\n"
     ]
    }
   ],
   "source": [
    "import numpy as np\n",
    "\n",
    "# Generate arr1 with sequential integers from 10 to 1\n",
    "arr1 = np.arange(10, 0, -1)\n",
    "print(\"arr1:\")\n",
    "print(arr1)\n",
    "\n",
    "# Generate arr2 with integers from 1 to 10\n",
    "arr2 = np.arange(1, 11)\n",
    "print(\"\\narr2:\")\n",
    "print(arr2)\n",
    "\n",
    "# Subtract arr2 from arr1 element-wise\n",
    "result = arr1 - arr2\n",
    "print(\"\\nElement-wise subtraction:\")\n",
    "print(result)\n"
   ]
  },
  {
   "cell_type": "code",
   "execution_count": 38,
   "id": "7abe4751-ca19-444a-ac39-35f0935a0a97",
   "metadata": {},
   "outputs": [],
   "source": [
    "#53. Create a NumPy array `arr1` with random integers and another array `arr2` with integers from 1 to 5. Perform element-wise multiplication between `arr1` and `arr2`."
   ]
  },
  {
   "cell_type": "code",
   "execution_count": 39,
   "id": "e9c76c42-1119-47cd-a2b6-e00fe9e3ef58",
   "metadata": {},
   "outputs": [
    {
     "name": "stdout",
     "output_type": "stream",
     "text": [
      "arr1:\n",
      "[[74 20 88]\n",
      " [46 97 28]\n",
      " [49 99 23]]\n",
      "\n",
      "arr2:\n",
      "[1 2 3 4 5]\n"
     ]
    },
    {
     "ename": "ValueError",
     "evalue": "operands could not be broadcast together with shapes (3,3) (5,) ",
     "output_type": "error",
     "traceback": [
      "\u001b[0;31m---------------------------------------------------------------------------\u001b[0m",
      "\u001b[0;31mValueError\u001b[0m                                Traceback (most recent call last)",
      "Cell \u001b[0;32mIn[39], line 14\u001b[0m\n\u001b[1;32m     11\u001b[0m \u001b[38;5;28mprint\u001b[39m(arr2)\n\u001b[1;32m     13\u001b[0m \u001b[38;5;66;03m# Perform element-wise multiplication between arr1 and arr2\u001b[39;00m\n\u001b[0;32m---> 14\u001b[0m result \u001b[38;5;241m=\u001b[39m \u001b[43marr1\u001b[49m\u001b[43m \u001b[49m\u001b[38;5;241;43m*\u001b[39;49m\u001b[43m \u001b[49m\u001b[43marr2\u001b[49m\n\u001b[1;32m     15\u001b[0m \u001b[38;5;28mprint\u001b[39m(\u001b[38;5;124m\"\u001b[39m\u001b[38;5;130;01m\\n\u001b[39;00m\u001b[38;5;124mElement-wise multiplication:\u001b[39m\u001b[38;5;124m\"\u001b[39m)\n\u001b[1;32m     16\u001b[0m \u001b[38;5;28mprint\u001b[39m(result)\n",
      "\u001b[0;31mValueError\u001b[0m: operands could not be broadcast together with shapes (3,3) (5,) "
     ]
    }
   ],
   "source": [
    "import numpy as np\n",
    "\n",
    "# Create arr1 with random integers\n",
    "arr1 = np.random.randint(1, 100, size=(3, 3))  # Random integers between 1 and 100 in a 3x3 array\n",
    "print(\"arr1:\")\n",
    "print(arr1)\n",
    "\n",
    "# Create arr2 with integers from 1 to 5\n",
    "arr2 = np.arange(1, 6)  # Integers from 1 to 5\n",
    "print(\"\\narr2:\")\n",
    "print(arr2)\n",
    "\n",
    "# Perform element-wise multiplication between arr1 and arr2\n",
    "result = arr1 * arr2\n",
    "print(\"\\nElement-wise multiplication:\")\n",
    "print(result)\n"
   ]
  },
  {
   "cell_type": "code",
   "execution_count": 41,
   "id": "576a8606-0da1-4777-bce0-68cfb2c46af7",
   "metadata": {},
   "outputs": [],
   "source": [
    "#54. Generate a NumPy array `arr1` with even integers from 2 to 10 and another array `arr2` with integers from 1 to 5. Perform element-wise division of `arr1` by `arr2`."
   ]
  },
  {
   "cell_type": "code",
   "execution_count": 42,
   "id": "2ad015d0-a882-4588-bcf2-377532a22923",
   "metadata": {},
   "outputs": [
    {
     "name": "stdout",
     "output_type": "stream",
     "text": [
      "arr1:\n",
      "[ 2  4  6  8 10]\n",
      "\n",
      "arr2:\n",
      "[1 2 3 4 5]\n",
      "\n",
      "Element-wise division:\n",
      "[2. 2. 2. 2. 2.]\n"
     ]
    }
   ],
   "source": [
    "import numpy as np\n",
    "\n",
    "# Generate arr1 with even integers from 2 to 10\n",
    "arr1 = np.arange(2, 11, 2)\n",
    "print(\"arr1:\")\n",
    "print(arr1)\n",
    "\n",
    "# Generate arr2 with integers from 1 to 5\n",
    "arr2 = np.arange(1, 6)\n",
    "print(\"\\narr2:\")\n",
    "print(arr2)\n",
    "\n",
    "# Perform element-wise division between arr1 and arr2\n",
    "result = arr1 / arr2\n",
    "print(\"\\nElement-wise division:\")\n",
    "print(result)\n"
   ]
  },
  {
   "cell_type": "code",
   "execution_count": 43,
   "id": "fe12a39b-8793-4dda-8c4c-8120ee201430",
   "metadata": {},
   "outputs": [],
   "source": [
    "#55. Create a NumPy array `arr1` with integers from 1 to 5 and another array `arr2` with the same numbers reversed. Calculate the exponentiation of `arr1` raised to the power of `arr2` element-wise."
   ]
  },
  {
   "cell_type": "code",
   "execution_count": 44,
   "id": "437903c7-1721-40d5-8714-27993de66fba",
   "metadata": {},
   "outputs": [
    {
     "name": "stdout",
     "output_type": "stream",
     "text": [
      "arr1:\n",
      "[1 2 3 4 5]\n",
      "\n",
      "arr2:\n",
      "[5 4 3 2 1]\n",
      "\n",
      "Exponentiation of arr1 raised to the power of arr2 element-wise:\n",
      "[ 1 16 27 16  5]\n"
     ]
    }
   ],
   "source": [
    "import numpy as np\n",
    "\n",
    "# Create arr1 with integers from 1 to 5\n",
    "arr1 = np.arange(1, 6)\n",
    "print(\"arr1:\")\n",
    "print(arr1)\n",
    "\n",
    "# Create arr2 with the same numbers reversed\n",
    "arr2 = np.flip(arr1)\n",
    "print(\"\\narr2:\")\n",
    "print(arr2)\n",
    "\n",
    "# Calculate the exponentiation of arr1 raised to the power of arr2 element-wise\n",
    "result = np.power(arr1, arr2)\n",
    "print(\"\\nExponentiation of arr1 raised to the power of arr2 element-wise:\")\n",
    "print(result)\n"
   ]
  },
  {
   "cell_type": "code",
   "execution_count": 45,
   "id": "3a78c91c-9639-4504-8029-5024bcb8ff29",
   "metadata": {},
   "outputs": [],
   "source": [
    "#56. Write a function that counts the occurrences of a specific substring within a NumPy array of strings."
   ]
  },
  {
   "cell_type": "code",
   "execution_count": 46,
   "id": "bcf16016-beda-45a6-8077-a2ee7d31b7bf",
   "metadata": {},
   "outputs": [
    {
     "name": "stdout",
     "output_type": "stream",
     "text": [
      "Occurrences of 'hello' within the array: 3\n"
     ]
    }
   ],
   "source": [
    "import numpy as np\n",
    "\n",
    "def count_substring_occurrences(arr, substring):\n",
    "    # Initialize count variable to store the total occurrences\n",
    "    count = 0\n",
    "    \n",
    "    # Iterate over each element in the array\n",
    "    for string in arr:\n",
    "        # Count occurrences of substring in the current string\n",
    "        count += string.count(substring)\n",
    "    \n",
    "    return count\n",
    "\n",
    "# Given array of strings\n",
    "arr = np.array(['hello', 'world', 'hello', 'numpy', 'hello'])\n",
    "\n",
    "# Substring to count occurrences\n",
    "substring = 'hello'\n",
    "\n",
    "# Call the function to count occurrences of the substring\n",
    "occurrences = count_substring_occurrences(arr, substring)\n",
    "print(\"Occurrences of '{}' within the array: {}\".format(substring, occurrences))\n"
   ]
  },
  {
   "cell_type": "code",
   "execution_count": 47,
   "id": "ac891d81-e867-4416-857a-4be8706d34f1",
   "metadata": {},
   "outputs": [],
   "source": [
    "#57. Write a function that extracts uppercase characters from a NumPy array of strings.\n",
    "\n",
    "#arr = np.array(['Hello', 'World', 'OpenAI', 'GPT'])"
   ]
  },
  {
   "cell_type": "code",
   "execution_count": 48,
   "id": "0e0f0aed-80d3-40f3-8b11-21de183d591f",
   "metadata": {},
   "outputs": [
    {
     "name": "stdout",
     "output_type": "stream",
     "text": [
      "Uppercase characters extracted from the array:\n",
      "['H', 'W', 'O', 'A', 'I', 'G', 'P', 'T']\n"
     ]
    }
   ],
   "source": [
    "import numpy as np\n",
    "\n",
    "def extract_uppercase_characters(arr):\n",
    "    # Initialize an empty list to store uppercase characters\n",
    "    uppercase_characters = []\n",
    "\n",
    "    # Iterate over each element in the array\n",
    "    for string in arr:\n",
    "        # Extract uppercase characters from the current string\n",
    "        uppercase_characters.extend(char for char in string if char.isupper())\n",
    "\n",
    "    return uppercase_characters\n",
    "\n",
    "# Given array of strings\n",
    "arr = np.array(['Hello', 'World', 'OpenAI', 'GPT'])\n",
    "\n",
    "# Call the function to extract uppercase characters\n",
    "result = extract_uppercase_characters(arr)\n",
    "print(\"Uppercase characters extracted from the array:\")\n",
    "print(result)\n"
   ]
  },
  {
   "cell_type": "code",
   "execution_count": 49,
   "id": "c39f26f0-db2d-4712-a969-3414b49e4a81",
   "metadata": {},
   "outputs": [],
   "source": [
    "#58. Write a function that replaces occurrences of a substring in a NumPy array of strings with a new string."
   ]
  },
  {
   "cell_type": "code",
   "execution_count": 50,
   "id": "c94afc2c-bc5e-452b-8741-cfc2c45fecff",
   "metadata": {},
   "outputs": [
    {
     "name": "stdout",
     "output_type": "stream",
     "text": [
      "Array after replacing 'ap' with 'orange':\n",
      "['orangeple' 'banana' 'grorangee' 'pineorang']\n"
     ]
    }
   ],
   "source": [
    "import numpy as np\n",
    "\n",
    "def replace_substring(arr, old_substring, new_substring):\n",
    "    # Create a new array to store the modified strings\n",
    "    modified_arr = np.empty_like(arr)\n",
    "\n",
    "    # Iterate over each element in the array\n",
    "    for i, string in enumerate(arr):\n",
    "        # Replace occurrences of old_substring with new_substring\n",
    "        modified_arr[i] = string.replace(old_substring, new_substring)\n",
    "\n",
    "    return modified_arr\n",
    "\n",
    "# Given array of strings\n",
    "arr = np.array(['apple', 'banana', 'grape', 'pineapple'])\n",
    "\n",
    "# Substring to replace and new substring\n",
    "old_substring = 'ap'\n",
    "new_substring = 'orange'\n",
    "\n",
    "# Call the function to replace occurrences of the substring\n",
    "result = replace_substring(arr, old_substring, new_substring)\n",
    "print(\"Array after replacing '{}' with '{}':\".format(old_substring, new_substring))\n",
    "print(result)\n"
   ]
  },
  {
   "cell_type": "code",
   "execution_count": 51,
   "id": "196ca003-abbc-466c-9274-963761d30672",
   "metadata": {},
   "outputs": [],
   "source": [
    "#59. Write a function that concatenates strings in a NumPy array element-wise."
   ]
  },
  {
   "cell_type": "code",
   "execution_count": 52,
   "id": "73029a28-d256-4465-ab2b-343fb71aa0f3",
   "metadata": {},
   "outputs": [
    {
     "name": "stdout",
     "output_type": "stream",
     "text": [
      "Element-wise concatenation:\n",
      "['HelloOpen' 'WorldAI']\n"
     ]
    },
    {
     "name": "stderr",
     "output_type": "stream",
     "text": [
      "/tmp/ipykernel_77/1366495304.py:9: DeprecationWarning: `np.object` is a deprecated alias for the builtin `object`. To silence this warning, use `object` by itself. Doing this will not modify any behavior and is safe. \n",
      "Deprecated in NumPy 1.20; for more details and guidance: https://numpy.org/devdocs/release/1.20.0-notes.html#deprecations\n",
      "  concatenated_arr = np.empty_like(arr1, dtype=np.object)\n"
     ]
    }
   ],
   "source": [
    "import numpy as np\n",
    "\n",
    "def concatenate_strings(arr1, arr2):\n",
    "    # Ensure both arrays have the same shape\n",
    "    if arr1.shape != arr2.shape:\n",
    "        raise ValueError(\"Arrays must have the same shape for element-wise concatenation.\")\n",
    "\n",
    "    # Create a new array to store the concatenated strings\n",
    "    concatenated_arr = np.empty_like(arr1, dtype=np.object)\n",
    "\n",
    "    # Iterate over each element in the arrays\n",
    "    for i in range(len(arr1)):\n",
    "        # Concatenate corresponding strings from arr1 and arr2\n",
    "        concatenated_arr[i] = arr1[i] + arr2[i]\n",
    "\n",
    "    return concatenated_arr\n",
    "\n",
    "# Given arrays of strings\n",
    "arr1 = np.array(['Hello', 'World'])\n",
    "arr2 = np.array(['Open', 'AI'])\n",
    "\n",
    "# Call the function to concatenate strings element-wise\n",
    "result = concatenate_strings(arr1, arr2)\n",
    "print(\"Element-wise concatenation:\")\n",
    "print(result)\n"
   ]
  },
  {
   "cell_type": "code",
   "execution_count": 53,
   "id": "bf7cd5a4-2b06-4c85-bf25-00e1c8afb177",
   "metadata": {},
   "outputs": [],
   "source": [
    "#60. Write a function that finds the length of the longest string in a NumPy array.\n",
    "\n",
    "#arr = np.array(['apple', 'banana', 'grape', 'pineapple'])"
   ]
  },
  {
   "cell_type": "code",
   "execution_count": 54,
   "id": "04c041b5-e9aa-4c76-bfa5-529a9438ca1b",
   "metadata": {},
   "outputs": [
    {
     "name": "stdout",
     "output_type": "stream",
     "text": [
      "Length of the longest string in the array: 9\n"
     ]
    }
   ],
   "source": [
    "import numpy as np\n",
    "\n",
    "def longest_string_length(arr):\n",
    "    # Initialize the maximum length variable\n",
    "    max_length = 0\n",
    "\n",
    "    # Iterate over each element in the array\n",
    "    for string in arr:\n",
    "        # Update the maximum length if the length of the current string is greater\n",
    "        max_length = max(max_length, len(string))\n",
    "\n",
    "    return max_length\n",
    "\n",
    "# Given array of strings\n",
    "arr = np.array(['apple', 'banana', 'grape', 'pineapple'])\n",
    "\n",
    "# Call the function to find the length of the longest string\n",
    "result = longest_string_length(arr)\n",
    "print(\"Length of the longest string in the array:\", result)\n",
    "\n"
   ]
  },
  {
   "cell_type": "code",
   "execution_count": 55,
   "id": "3d8d4489-68e7-4835-a790-dd225681e452",
   "metadata": {},
   "outputs": [],
   "source": [
    "#61. Create a dataset of 100 random integers between 1 and 1000. Compute the mean, median, variance, and standard deviation of the dataset using NumPy's functions."
   ]
  },
  {
   "cell_type": "code",
   "execution_count": 56,
   "id": "0009f002-4fab-4967-b4ba-d989689b0b20",
   "metadata": {},
   "outputs": [
    {
     "name": "stdout",
     "output_type": "stream",
     "text": [
      "Mean: 495.24\n",
      "Median: 492.0\n",
      "Variance: 81886.6424\n",
      "Standard Deviation: 286.1584218575438\n"
     ]
    }
   ],
   "source": [
    "import numpy as np\n",
    "\n",
    "# Create a dataset of 100 random integers between 1 and 1000\n",
    "dataset = np.random.randint(1, 1001, size=100)\n",
    "\n",
    "# Compute the mean of the dataset\n",
    "mean = np.mean(dataset)\n",
    "\n",
    "# Compute the median of the dataset\n",
    "median = np.median(dataset)\n",
    "\n",
    "# Compute the variance of the dataset\n",
    "variance = np.var(dataset)\n",
    "\n",
    "# Compute the standard deviation of the dataset\n",
    "std_deviation = np.std(dataset)\n",
    "\n",
    "# Print the computed statistics\n",
    "print(\"Mean:\", mean)\n",
    "print(\"Median:\", median)\n",
    "print(\"Variance:\", variance)\n",
    "print(\"Standard Deviation:\", std_deviation)\n"
   ]
  },
  {
   "cell_type": "code",
   "execution_count": 57,
   "id": "a4f7707c-6dcc-41cd-acac-8317ba9b0662",
   "metadata": {},
   "outputs": [],
   "source": [
    "#62. Generate an array of 50 random numbers between 1 and 100. Find the 25th and 75th percentiles of the dataset."
   ]
  },
  {
   "cell_type": "code",
   "execution_count": 58,
   "id": "4d350c0c-5591-45d7-a603-a18e74836fa9",
   "metadata": {},
   "outputs": [
    {
     "name": "stdout",
     "output_type": "stream",
     "text": [
      "25th Percentile: 37.0\n",
      "75th Percentile: 75.75\n"
     ]
    }
   ],
   "source": [
    "import numpy as np\n",
    "\n",
    "# Generate an array of 50 random numbers between 1 and 100\n",
    "dataset = np.random.randint(1, 101, size=50)\n",
    "\n",
    "# Find the 25th and 75th percentiles of the dataset\n",
    "percentile_25th = np.percentile(dataset, 25)\n",
    "percentile_75th = np.percentile(dataset, 75)\n",
    "\n",
    "# Print the percentiles\n",
    "print(\"25th Percentile:\", percentile_25th)\n",
    "print(\"75th Percentile:\", percentile_75th)\n"
   ]
  },
  {
   "cell_type": "code",
   "execution_count": 59,
   "id": "959a84ea-876f-4f0c-8a23-de81d1761f12",
   "metadata": {},
   "outputs": [],
   "source": [
    "#63. Create two arrays representing two sets of variables. Compute the correlation coefficient between these arrays using NumPy's `corrcoef` function."
   ]
  },
  {
   "cell_type": "code",
   "execution_count": 60,
   "id": "29d8e4be-2672-4ae2-9bfc-440eff4c1e91",
   "metadata": {},
   "outputs": [
    {
     "name": "stdout",
     "output_type": "stream",
     "text": [
      "Correlation Coefficient between array1 and array2: -0.9999999999999999\n"
     ]
    }
   ],
   "source": [
    "import numpy as np\n",
    "\n",
    "# Create two arrays representing two sets of variables\n",
    "array1 = np.array([1, 2, 3, 4, 5])\n",
    "array2 = np.array([5, 4, 3, 2, 1])\n",
    "\n",
    "# Compute the correlation coefficient between the arrays\n",
    "correlation_coefficient = np.corrcoef(array1, array2)[0, 1]\n",
    "\n",
    "# Print the correlation coefficient\n",
    "print(\"Correlation Coefficient between array1 and array2:\", correlation_coefficient)\n"
   ]
  },
  {
   "cell_type": "code",
   "execution_count": 61,
   "id": "38bc7673-6b81-42cd-9849-46e627a91069",
   "metadata": {},
   "outputs": [],
   "source": [
    "#64. Create two matrices and perform matrix multiplication using NumPy's `dot` function."
   ]
  },
  {
   "cell_type": "code",
   "execution_count": 62,
   "id": "6dd01acb-60af-47bf-a504-d8911327544b",
   "metadata": {},
   "outputs": [
    {
     "name": "stdout",
     "output_type": "stream",
     "text": [
      "Result of matrix multiplication:\n",
      "[[ 58  64]\n",
      " [139 154]]\n"
     ]
    }
   ],
   "source": [
    "import numpy as np\n",
    "\n",
    "# Create two matrices\n",
    "matrix1 = np.array([[1, 2, 3], [4, 5, 6]])\n",
    "matrix2 = np.array([[7, 8], [9, 10], [11, 12]])\n",
    "\n",
    "# Perform matrix multiplication\n",
    "result_matrix = np.dot(matrix1, matrix2)\n",
    "\n",
    "# Print the result\n",
    "print(\"Result of matrix multiplication:\")\n",
    "print(result_matrix)\n"
   ]
  },
  {
   "cell_type": "code",
   "execution_count": 63,
   "id": "a265e573-b6f3-45b4-8449-f08b0e1c3d9f",
   "metadata": {},
   "outputs": [],
   "source": [
    "#65. Create an array of 50 integers between 10 and 1000. Calculate the 10th, 50th (median), and 90th percentiles along with the first and third quartiles."
   ]
  },
  {
   "cell_type": "code",
   "execution_count": 64,
   "id": "7eecd986-d019-4f36-8bcc-9272fc869ccf",
   "metadata": {},
   "outputs": [
    {
     "name": "stdout",
     "output_type": "stream",
     "text": [
      "Data: [929 442 613 856 557 305  78 760  67 808 884  44 434 873 974 151  18 853\n",
      " 441 306 267 912 754 444 297 415 465 621 658 163 597 137  12 192  33  88\n",
      " 559 249 866 719 705 547  78 859 584 879  27 806 642 398]\n",
      "10th percentile: 64.7\n",
      "50th percentile (median): 506.0\n",
      "90th percentile: 873.6\n",
      "First quartile: 206.25\n",
      "Third quartile: 758.5\n"
     ]
    }
   ],
   "source": [
    "import numpy as np\n",
    "\n",
    "# Create an array of 50 integers between 10 and 1000\n",
    "data = np.random.randint(10, 1001, 50)\n",
    "\n",
    "# Calculate percentiles and quartiles\n",
    "percentiles = np.percentile(data, [10, 50, 90])\n",
    "first_quartile = np.percentile(data, 25)\n",
    "third_quartile = np.percentile(data, 75)\n",
    "\n",
    "print(\"Data:\", data)\n",
    "print(\"10th percentile:\", percentiles[0])\n",
    "print(\"50th percentile (median):\", percentiles[1])\n",
    "print(\"90th percentile:\", percentiles[2])\n",
    "print(\"First quartile:\", first_quartile)\n",
    "print(\"Third quartile:\", third_quartile)\n"
   ]
  },
  {
   "cell_type": "code",
   "execution_count": 65,
   "id": "77034205-9c1b-4368-b0f1-2d91b8a7fa9f",
   "metadata": {},
   "outputs": [],
   "source": [
    "#66. Create a NumPy array of integers and find the index of a specific element."
   ]
  },
  {
   "cell_type": "code",
   "execution_count": 66,
   "id": "8ec422bb-0c7d-449c-ba61-2bdd5824405a",
   "metadata": {},
   "outputs": [
    {
     "name": "stdout",
     "output_type": "stream",
     "text": [
      "Index of 50 : 4\n"
     ]
    }
   ],
   "source": [
    "import numpy as np\n",
    "\n",
    "# Create a NumPy array of integers\n",
    "array = np.array([10, 20, 30, 40, 50, 60, 70, 80, 90])\n",
    "\n",
    "# Define the element to find\n",
    "element_to_find = 50\n",
    "\n",
    "# Find the index of the element\n",
    "index = np.where(array == element_to_find)[0]\n",
    "\n",
    "if index.size > 0:\n",
    "    print(\"Index of\", element_to_find, \":\", index[0])\n",
    "else:\n",
    "    print(element_to_find, \"not found in the array.\")\n"
   ]
  },
  {
   "cell_type": "code",
   "execution_count": 67,
   "id": "d4c819bc-d7b1-4b00-868c-dcaf3ee2afbe",
   "metadata": {},
   "outputs": [],
   "source": [
    "#67. Generate a random NumPy array and sort it in ascending order"
   ]
  },
  {
   "cell_type": "code",
   "execution_count": 68,
   "id": "014e5da3-9ac5-488e-9db2-56035d9103c2",
   "metadata": {},
   "outputs": [
    {
     "name": "stdout",
     "output_type": "stream",
     "text": [
      "Original array: [ 8 93 16 65 97 98 40 30 16 51]\n",
      "Sorted array in ascending order: [ 8 16 16 30 40 51 65 93 97 98]\n"
     ]
    }
   ],
   "source": [
    "import numpy as np\n",
    "\n",
    "# Generate a random NumPy array\n",
    "random_array = np.random.randint(0, 100, size=10)\n",
    "\n",
    "# Sort the array in ascending order\n",
    "sorted_array = np.sort(random_array)\n",
    "\n",
    "print(\"Original array:\", random_array)\n",
    "print(\"Sorted array in ascending order:\", sorted_array)\n"
   ]
  },
  {
   "cell_type": "code",
   "execution_count": 69,
   "id": "2f696284-1d66-43ea-9c46-85d630daeda0",
   "metadata": {},
   "outputs": [],
   "source": [
    "#68. Filter elements >20  in the given NumPy array."
   ]
  },
  {
   "cell_type": "code",
   "execution_count": 70,
   "id": "af1a4949-f974-46c4-a892-4e01bfac7494",
   "metadata": {},
   "outputs": [
    {
     "name": "stdout",
     "output_type": "stream",
     "text": [
      "Original array: [12 25  6 42  8 30]\n",
      "Filtered elements greater than 20: [25 42 30]\n"
     ]
    }
   ],
   "source": [
    "import numpy as np\n",
    "\n",
    "# Given NumPy array\n",
    "arr = np.array([12, 25, 6, 42, 8, 30])\n",
    "\n",
    "# Filter elements greater than 20\n",
    "filtered_array = arr[arr > 20]\n",
    "\n",
    "print(\"Original array:\", arr)\n",
    "print(\"Filtered elements greater than 20:\", filtered_array)\n"
   ]
  },
  {
   "cell_type": "code",
   "execution_count": 71,
   "id": "4505fe35-8b4f-47b5-a2f1-4ae81247ec5b",
   "metadata": {},
   "outputs": [],
   "source": [
    "#69. Filter elements which are divisible by 3 from a given NumPy array."
   ]
  },
  {
   "cell_type": "code",
   "execution_count": 72,
   "id": "dec69c1c-6961-4ead-8676-623d81398bb1",
   "metadata": {},
   "outputs": [
    {
     "name": "stdout",
     "output_type": "stream",
     "text": [
      "Original array: [ 1  5  8 12 15]\n",
      "Filtered elements divisible by 3: [12 15]\n"
     ]
    }
   ],
   "source": [
    "import numpy as np\n",
    "\n",
    "# Given NumPy array\n",
    "arr = np.array([1, 5, 8, 12, 15])\n",
    "\n",
    "# Filter elements divisible by 3\n",
    "filtered_array = arr[arr % 3 == 0]\n",
    "\n",
    "print(\"Original array:\", arr)\n",
    "print(\"Filtered elements divisible by 3:\", filtered_array)\n"
   ]
  },
  {
   "cell_type": "code",
   "execution_count": 73,
   "id": "e2335369-9efa-423c-86cb-1839687940fc",
   "metadata": {},
   "outputs": [],
   "source": [
    "#70. Filter elements which are ≥ 20 and ≤ 40 from a given NumPy array."
   ]
  },
  {
   "cell_type": "code",
   "execution_count": 74,
   "id": "7ae64194-a277-43fc-9a61-419736d737e2",
   "metadata": {},
   "outputs": [
    {
     "name": "stdout",
     "output_type": "stream",
     "text": [
      "Original array: [10 20 30 40 50]\n",
      "Filtered elements between 20 and 40 (inclusive): [20 30 40]\n"
     ]
    }
   ],
   "source": [
    "import numpy as np\n",
    "\n",
    "# Given NumPy array\n",
    "arr = np.array([10, 20, 30, 40, 50])\n",
    "\n",
    "# Filter elements within the range [20, 40]\n",
    "filtered_array = arr[(arr >= 20) & (arr <= 40)]\n",
    "\n",
    "print(\"Original array:\", arr)\n",
    "print(\"Filtered elements between 20 and 40 (inclusive):\", filtered_array)\n"
   ]
  },
  {
   "cell_type": "code",
   "execution_count": 75,
   "id": "d5988ca0-95a3-4664-af67-13ca243e3a74",
   "metadata": {},
   "outputs": [],
   "source": [
    "#71. For the given NumPy array, check its byte order using the `dtype` attribute byteorder."
   ]
  },
  {
   "cell_type": "code",
   "execution_count": 76,
   "id": "8754df29-306c-46a5-a1ba-61e9ca97e444",
   "metadata": {},
   "outputs": [
    {
     "name": "stdout",
     "output_type": "stream",
     "text": [
      "Byte order of the array: =\n"
     ]
    }
   ],
   "source": [
    "import numpy as np\n",
    "\n",
    "# Given NumPy array\n",
    "arr = np.array([1, 2, 3])\n",
    "\n",
    "# Check byte order\n",
    "byte_order = arr.dtype.byteorder\n",
    "\n",
    "print(\"Byte order of the array:\", byte_order)\n"
   ]
  },
  {
   "cell_type": "code",
   "execution_count": 77,
   "id": "14f43f53-6d98-41f2-8e65-a818132d3909",
   "metadata": {},
   "outputs": [],
   "source": [
    "#72. For the given NumPy array, perform byte swapping in place using `byteswap("
   ]
  },
  {
   "cell_type": "code",
   "execution_count": 78,
   "id": "f3dbfa49-064e-450b-a6ae-385eb55f4c9e",
   "metadata": {},
   "outputs": [
    {
     "name": "stdout",
     "output_type": "stream",
     "text": [
      "Byte-swapped array: [16777216 33554432 50331648]\n"
     ]
    }
   ],
   "source": [
    "import numpy as np\n",
    "\n",
    "# Given NumPy array\n",
    "arr = np.array([1, 2, 3], dtype=np.int32)\n",
    "\n",
    "# Perform byte swapping in place\n",
    "arr.byteswap(True)\n",
    "\n",
    "print(\"Byte-swapped array:\", arr)\n"
   ]
  },
  {
   "cell_type": "code",
   "execution_count": 79,
   "id": "53f66454-afb0-47f9-8925-a337a081521d",
   "metadata": {},
   "outputs": [],
   "source": [
    "#73. For the given NumPy array, swap its byte order without modifying the original array using `newbyteorder()`."
   ]
  },
  {
   "cell_type": "code",
   "execution_count": 80,
   "id": "308ad65e-5de8-42e4-b8dd-5631ab40a7aa",
   "metadata": {},
   "outputs": [
    {
     "name": "stdout",
     "output_type": "stream",
     "text": [
      "Original array: [1 2 3]\n",
      "Array with swapped byte order: [16777216 33554432 50331648]\n"
     ]
    }
   ],
   "source": [
    "import numpy as np\n",
    "\n",
    "# Given NumPy array\n",
    "arr = np.array([1, 2, 3], dtype=np.int32)\n",
    "\n",
    "# Swap byte order without modifying the original array\n",
    "swapped_arr = arr.newbyteorder()\n",
    "\n",
    "print(\"Original array:\", arr)\n",
    "print(\"Array with swapped byte order:\", swapped_arr)\n"
   ]
  },
  {
   "cell_type": "code",
   "execution_count": 81,
   "id": "ab958b9e-46fa-43a4-97e9-abd23915915a",
   "metadata": {},
   "outputs": [],
   "source": [
    "#74. For the given NumPy array and swap its byte order conditionally based on system endianness using `newbyteorder()`."
   ]
  },
  {
   "cell_type": "code",
   "execution_count": 82,
   "id": "017b7894-2ccb-49bd-b9c0-e8ac4b42be24",
   "metadata": {},
   "outputs": [
    {
     "name": "stdout",
     "output_type": "stream",
     "text": [
      "Original array: [1 2 3]\n",
      "Array with swapped byte order if necessary: [16777216 33554432 50331648]\n"
     ]
    }
   ],
   "source": [
    "import numpy as np\n",
    "import sys\n",
    "\n",
    "# Given NumPy array\n",
    "arr = np.array([1, 2, 3], dtype=np.int32)\n",
    "\n",
    "# Check system endianness and swap byte order accordingly\n",
    "if sys.byteorder != arr.dtype.byteorder:\n",
    "    swapped_arr = arr.newbyteorder()\n",
    "else:\n",
    "    swapped_arr = arr\n",
    "\n",
    "print(\"Original array:\", arr)\n",
    "print(\"Array with swapped byte order if necessary:\", swapped_arr)\n"
   ]
  },
  {
   "cell_type": "code",
   "execution_count": 83,
   "id": "401369c9-ddbf-4039-be32-1fb8d674e438",
   "metadata": {},
   "outputs": [],
   "source": [
    "#75. For the given NumPy array, check if byte swapping is necessary for the current system using `dtype` attribute `byteorder`."
   ]
  },
  {
   "cell_type": "code",
   "execution_count": 84,
   "id": "b38fc786-c73d-4409-a791-a09fa85618b6",
   "metadata": {},
   "outputs": [
    {
     "name": "stdout",
     "output_type": "stream",
     "text": [
      "Byte swapping is necessary for the current system.\n"
     ]
    }
   ],
   "source": [
    "import numpy as np\n",
    "import sys\n",
    "\n",
    "# Given NumPy array\n",
    "arr = np.array([1, 2, 3], dtype=np.int32)\n",
    "\n",
    "# Check if byte swapping is necessary\n",
    "if arr.dtype.byteorder != sys.byteorder:\n",
    "    print(\"Byte swapping is necessary for the current system.\")\n",
    "else:\n",
    "    print(\"Byte swapping is not necessary for the current system.\")\n"
   ]
  },
  {
   "cell_type": "code",
   "execution_count": 85,
   "id": "6cf77878-9c94-4d47-ba70-889d93565662",
   "metadata": {},
   "outputs": [],
   "source": [
    "#76. Create a NumPy array `arr1` with values from 1 to 10. Create a copy of `arr1` named `copy_arr` and modify an element in `copy_arr`. Check if modifying `copy_arr` affects `arr1`"
   ]
  },
  {
   "cell_type": "code",
   "execution_count": 86,
   "id": "3d6c357f-4847-4a45-ae4c-5e561544a665",
   "metadata": {},
   "outputs": [
    {
     "name": "stdout",
     "output_type": "stream",
     "text": [
      "Original arr1: [ 1  2  3  4  5  6  7  8  9 10]\n",
      "Modified copy_arr: [100   2   3   4   5   6   7   8   9  10]\n"
     ]
    }
   ],
   "source": [
    "import numpy as np\n",
    "\n",
    "# Create arr1 with values from 1 to 10\n",
    "arr1 = np.arange(1, 11)\n",
    "\n",
    "# Create a copy of arr1 named copy_arr\n",
    "copy_arr = arr1.copy()\n",
    "\n",
    "# Modify an element in copy_arr\n",
    "copy_arr[0] = 100\n",
    "\n",
    "# Check if modifying copy_arr affects arr1\n",
    "print(\"Original arr1:\", arr1)\n",
    "print(\"Modified copy_arr:\", copy_arr)\n"
   ]
  },
  {
   "cell_type": "code",
   "execution_count": 87,
   "id": "41951b84-952a-4b01-b684-9a5b7d27304d",
   "metadata": {},
   "outputs": [],
   "source": [
    "#77. Create a 2D NumPy array `matrix` of shape (3, 3) with random integers. Extract a slice `view_slice` from the matrix. Modify an element in `view_slice` and observe if it changes the original `matrix`."
   ]
  },
  {
   "cell_type": "code",
   "execution_count": 88,
   "id": "a8bcf7a1-4728-4e38-b250-578d4857d16d",
   "metadata": {},
   "outputs": [
    {
     "name": "stdout",
     "output_type": "stream",
     "text": [
      "Original matrix:\n",
      "[[999   7  44]\n",
      " [  2  87  66]\n",
      " [ 29  83  24]]\n",
      "\n",
      "Modified slice (view_slice):\n",
      "[[999   7]\n",
      " [  2  87]]\n"
     ]
    }
   ],
   "source": [
    "import numpy as np\n",
    "\n",
    "# Create a 2D NumPy array (matrix) of shape (3, 3) with random integers\n",
    "matrix = np.random.randint(1, 100, size=(3, 3))\n",
    "\n",
    "# Extract a slice (view_slice) from the matrix\n",
    "view_slice = matrix[:2, :2]  # Extracting the top-left 2x2 slice\n",
    "\n",
    "# Modify an element in view_slice\n",
    "view_slice[0, 0] = 999\n",
    "\n",
    "# Print both the original matrix and the modified slice\n",
    "print(\"Original matrix:\")\n",
    "print(matrix)\n",
    "\n",
    "print(\"\\nModified slice (view_slice):\")\n",
    "print(view_slice)\n"
   ]
  },
  {
   "cell_type": "code",
   "execution_count": 89,
   "id": "f298522b-66db-4186-a86b-4d3bc33dffc1",
   "metadata": {},
   "outputs": [],
   "source": [
    "##78. Create a NumPy array `array_a` of shape (4, 3) with sequential integers from 1 to 12. Extract a slice `view_b` from `array_a` and broadcast the addition of 5 to view_b. Check if it alters the original `array_a`."
   ]
  },
  {
   "cell_type": "code",
   "execution_count": 90,
   "id": "b23c989a-e042-42a6-89f2-92be4f5daf24",
   "metadata": {},
   "outputs": [
    {
     "name": "stdout",
     "output_type": "stream",
     "text": [
      "Original array_a:\n",
      "[[ 6  7  3]\n",
      " [ 9 10  6]\n",
      " [ 7  8  9]\n",
      " [10 11 12]]\n",
      "\n",
      "Modified slice (view_b):\n",
      "[[ 6  7]\n",
      " [ 9 10]]\n"
     ]
    }
   ],
   "source": [
    "import numpy as np\n",
    "\n",
    "# Create a NumPy array of shape (4, 3) with sequential integers from 1 to 12\n",
    "array_a = np.arange(1, 13).reshape(4, 3)\n",
    "\n",
    "# Extract a slice (view_b) from array_a\n",
    "view_b = array_a[:2, :2]  # Extracting the top-left 2x2 slice\n",
    "\n",
    "# Broadcast the addition of 5 to view_b\n",
    "view_b += 5\n",
    "\n",
    "# Print both the original array_a and the modified slice view_b\n",
    "print(\"Original array_a:\")\n",
    "print(array_a)\n",
    "\n",
    "print(\"\\nModified slice (view_b):\")\n",
    "print(view_b)\n"
   ]
  },
  {
   "cell_type": "code",
   "execution_count": 91,
   "id": "5860780a-f555-49d8-b17a-cd39a9a44df0",
   "metadata": {},
   "outputs": [],
   "source": [
    "#79. Create a NumPy array `orig_array` of shape (2, 4) with values from 1 to 8. Create a reshaped view `reshaped_view` of shape (4, 2) from orig_array. Modify an element in`reshaped_view` and check if it reflects changes in the original `orig_array`."
   ]
  },
  {
   "cell_type": "code",
   "execution_count": 92,
   "id": "89c2e87a-34d6-420a-b945-256ea989f9ce",
   "metadata": {},
   "outputs": [
    {
     "name": "stdout",
     "output_type": "stream",
     "text": [
      "Original orig_array:\n",
      "[[999   2   3   4]\n",
      " [  5   6   7   8]]\n",
      "\n",
      "Modified reshaped_view:\n",
      "[[999   5]\n",
      " [  2   6]\n",
      " [  3   7]\n",
      " [  4   8]]\n"
     ]
    }
   ],
   "source": [
    "import numpy as np\n",
    "\n",
    "# Create a NumPy array of shape (2, 4) with values from 1 to 8\n",
    "orig_array = np.arange(1, 9).reshape(2, 4)\n",
    "\n",
    "# Create a reshaped view of shape (4, 2) from orig_array\n",
    "reshaped_view = orig_array.T.reshape(4, 2)\n",
    "\n",
    "# Modify an element in reshaped_view\n",
    "reshaped_view[0, 0] = 999\n",
    "\n",
    "# Print both the original orig_array and the modified reshaped_view\n",
    "print(\"Original orig_array:\")\n",
    "print(orig_array)\n",
    "\n",
    "print(\"\\nModified reshaped_view:\")\n",
    "print(reshaped_view)\n"
   ]
  },
  {
   "cell_type": "code",
   "execution_count": 93,
   "id": "180b8190-a76d-4cab-b8bf-b5ba6b7ea718",
   "metadata": {},
   "outputs": [],
   "source": [
    "#80. Create a NumPy array `data` of shape (3, 4) with random integers. Extract a copy `data_copy` ofelements greater than 5. Modify an element in `data_copy` and verify if it affects the original `data`."
   ]
  },
  {
   "cell_type": "code",
   "execution_count": 96,
   "id": "8312c746-6cda-4b5b-8bc2-9a8dba8f07b3",
   "metadata": {},
   "outputs": [
    {
     "name": "stdout",
     "output_type": "stream",
     "text": [
      "Original data:\n",
      "[[7 1 7 7]\n",
      " [9 2 4 9]\n",
      " [9 2 6 5]]\n",
      "\n",
      "Modified data_copy:\n",
      "[999   7   7   9   9   9   6]\n"
     ]
    }
   ],
   "source": [
    "import numpy as np\n",
    "\n",
    "# Create a NumPy array of shape (3, 4) with random integers\n",
    "data = np.random.randint(1, 10, size=(3, 4))\n",
    "\n",
    "# Extract a copy of elements greater than 5\n",
    "data_copy = data[data > 5].copy()\n",
    "\n",
    "# Modify an element in data_copy\n",
    "data_copy[0] = 999\n",
    "\n",
    "# Print both the original data and the modified data_copy\n",
    "print(\"Original data:\")\n",
    "print(data)\n",
    "\n",
    "print(\"\\nModified data_copy:\")\n",
    "print(data_copy)\n"
   ]
  },
  {
   "cell_type": "code",
   "execution_count": 97,
   "id": "5d86d53f-267f-4ecc-8e86-23cb7df74bbf",
   "metadata": {},
   "outputs": [],
   "source": [
    "#81. Create two matrices A and B of identical shape containing integers and perform addition and subtraction operations between them"
   ]
  },
  {
   "cell_type": "code",
   "execution_count": 98,
   "id": "313a39ae-61b2-4ca6-ba77-da7cd246935b",
   "metadata": {},
   "outputs": [
    {
     "name": "stdout",
     "output_type": "stream",
     "text": [
      "Matrix A:\n",
      "[[1 2 3]\n",
      " [4 5 6]]\n",
      "\n",
      "Matrix B:\n",
      "[[ 7  8  9]\n",
      " [10 11 12]]\n",
      "\n",
      "Addition result (A + B):\n",
      "[[ 8 10 12]\n",
      " [14 16 18]]\n",
      "\n",
      "Subtraction result (A - B):\n",
      "[[-6 -6 -6]\n",
      " [-6 -6 -6]]\n"
     ]
    }
   ],
   "source": [
    "import numpy as np\n",
    "\n",
    "# Create matrices A and B\n",
    "A = np.array([[1, 2, 3],\n",
    "              [4, 5, 6]])\n",
    "\n",
    "B = np.array([[7, 8, 9],\n",
    "              [10, 11, 12]])\n",
    "\n",
    "# Addition operation\n",
    "addition_result = A + B\n",
    "\n",
    "# Subtraction operation\n",
    "subtraction_result = A - B\n",
    "\n",
    "# Print the results\n",
    "print(\"Matrix A:\")\n",
    "print(A)\n",
    "\n",
    "print(\"\\nMatrix B:\")\n",
    "print(B)\n",
    "\n",
    "print(\"\\nAddition result (A + B):\")\n",
    "print(addition_result)\n",
    "\n",
    "print(\"\\nSubtraction result (A - B):\")\n",
    "print(subtraction_result)\n"
   ]
  },
  {
   "cell_type": "code",
   "execution_count": 99,
   "id": "ff797742-bc4a-423d-9ca3-aa5b3222e4cb",
   "metadata": {},
   "outputs": [],
   "source": [
    "#82. Generate two matrices `C` (3x2) and `D` (2x4) and perform matrix multiplication."
   ]
  },
  {
   "cell_type": "code",
   "execution_count": 100,
   "id": "9b6cafc5-3f2c-4ce3-8d53-798bdc6f19da",
   "metadata": {},
   "outputs": [
    {
     "name": "stdout",
     "output_type": "stream",
     "text": [
      "Matrix C:\n",
      "[[1 2]\n",
      " [3 4]\n",
      " [5 6]]\n",
      "\n",
      "Matrix D:\n",
      "[[ 7  8  9 10]\n",
      " [11 12 13 14]]\n",
      "\n",
      "Matrix multiplication result (C * D):\n",
      "[[ 29  32  35  38]\n",
      " [ 65  72  79  86]\n",
      " [101 112 123 134]]\n"
     ]
    }
   ],
   "source": [
    "import numpy as np\n",
    "\n",
    "# Generate matrices C (3x2) and D (2x4)\n",
    "C = np.array([[1, 2],\n",
    "              [3, 4],\n",
    "              [5, 6]])\n",
    "\n",
    "D = np.array([[7, 8, 9, 10],\n",
    "              [11, 12, 13, 14]])\n",
    "\n",
    "# Perform matrix multiplication\n",
    "multiplication_result = np.dot(C, D)\n",
    "\n",
    "# Print the result\n",
    "print(\"Matrix C:\")\n",
    "print(C)\n",
    "\n",
    "print(\"\\nMatrix D:\")\n",
    "print(D)\n",
    "\n",
    "print(\"\\nMatrix multiplication result (C * D):\")\n",
    "print(multiplication_result)\n"
   ]
  },
  {
   "cell_type": "code",
   "execution_count": 101,
   "id": "c36ff3e9-f5ee-42ad-9187-141279cf6ae2",
   "metadata": {},
   "outputs": [],
   "source": [
    "#83. Create a matrix `E` and find its transpose"
   ]
  },
  {
   "cell_type": "code",
   "execution_count": 102,
   "id": "095473db-a95a-46b1-a1c1-13fb1ff0cb82",
   "metadata": {},
   "outputs": [
    {
     "name": "stdout",
     "output_type": "stream",
     "text": [
      "Matrix E:\n",
      "[[1 2 3]\n",
      " [4 5 6]\n",
      " [7 8 9]]\n",
      "\n",
      "Transpose of matrix E:\n",
      "[[1 4 7]\n",
      " [2 5 8]\n",
      " [3 6 9]]\n"
     ]
    }
   ],
   "source": [
    "import numpy as np\n",
    "\n",
    "# Create a matrix E\n",
    "E = np.array([[1, 2, 3],\n",
    "              [4, 5, 6],\n",
    "              [7, 8, 9]])\n",
    "\n",
    "# Find the transpose of matrix E\n",
    "E_transpose = np.transpose(E)\n",
    "\n",
    "# Print the original matrix and its transpose\n",
    "print(\"Matrix E:\")\n",
    "print(E)\n",
    "\n",
    "print(\"\\nTranspose of matrix E:\")\n",
    "print(E_transpose)\n"
   ]
  },
  {
   "cell_type": "code",
   "execution_count": null,
   "id": "2249ec31-7c5d-4069-a848-24eaa5913ffe",
   "metadata": {},
   "outputs": [],
   "source": []
  }
 ],
 "metadata": {
  "kernelspec": {
   "display_name": "Python 3 (ipykernel)",
   "language": "python",
   "name": "python3"
  },
  "language_info": {
   "codemirror_mode": {
    "name": "ipython",
    "version": 3
   },
   "file_extension": ".py",
   "mimetype": "text/x-python",
   "name": "python",
   "nbconvert_exporter": "python",
   "pygments_lexer": "ipython3",
   "version": "3.10.8"
  }
 },
 "nbformat": 4,
 "nbformat_minor": 5
}
